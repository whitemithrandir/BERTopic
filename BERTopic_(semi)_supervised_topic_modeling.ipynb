{
 "cells": [
  {
   "cell_type": "markdown",
   "metadata": {
    "id": "AXHLDxJdRzBi"
   },
   "source": [
    "# **Tutorial** - (semi)-supervised topic modeling\n",
    "(last updated 11-09-2022)\n",
    "\n",
    "In this tutorial, we will be looking at a new feature of BERTopic, namely (semi)-supervised topic modeling! This allows us to steer the dimensionality reduction of the embeddings into a space that closely follows any labels you might already have. \n",
    "\n",
    "## Semi-supervised modeling\n",
    "(semi)-supervised topic modeling is a class of methods that allows the user to perform topic modeling with previously defined labels. This might help nudge the model towards specific topics or classes for which you have labels. \n",
    "\n",
    "<br>\n",
    "\n",
    "<img src=\"https://raw.githubusercontent.com/MaartenGr/BERTopic/master/images/logo.png\" width=\"40%\">"
   ]
  },
  {
   "cell_type": "markdown",
   "metadata": {
    "id": "u9Xfz5COO-5a"
   },
   "source": [
    "# Enabling the GPU\n",
    "\n",
    "First, you'll need to enable GPUs for the notebook:\n",
    "\n",
    "- Navigate to Edit→Notebook Settings\n",
    "- select GPU from the Hardware Accelerator drop-down\n",
    "\n",
    "[Reference](https://colab.research.google.com/notebooks/gpu.ipynb)"
   ]
  },
  {
   "cell_type": "markdown",
   "metadata": {
    "id": "OeFueQ8xP_7E"
   },
   "source": [
    "# Installing BERTopic\n",
    "\n",
    "We start by installing BERTopic from PyPi:"
   ]
  },
  {
   "cell_type": "code",
   "execution_count": null,
   "metadata": {
    "id": "SNa-KtKDRnus"
   },
   "outputs": [],
   "source": [
    "%%capture\n",
    "!pip install bertopic"
   ]
  },
  {
   "cell_type": "markdown",
   "metadata": {
    "id": "yeg8RIjrQFkE"
   },
   "source": [
    "## Restart the Notebook\n",
    "After installing BERTopic, some packages that were already loaded were updated and in order to correctly use them, we should now restart the notebook.\n",
    "\n",
    "From the Menu:\n",
    "\n",
    "Runtime → Restart Runtime"
   ]
  },
  {
   "cell_type": "markdown",
   "metadata": {
    "id": "Y3VGFZ1USMTu"
   },
   "source": [
    "# **Data**\n",
    "For this example, we use the popular 20 Newsgroups dataset which contains roughly 18000 newsgroups posts that each is assigned to one of 20 topics:"
   ]
  },
  {
   "cell_type": "code",
   "execution_count": null,
   "metadata": {
    "id": "cadvhCBTc6Zz"
   },
   "outputs": [],
   "source": [
    "import pandas as pd\n",
    "from bertopic import BERTopic\n",
    "from sklearn.datasets import fetch_20newsgroups\n",
    "\n",
    "data = fetch_20newsgroups(subset='all',  remove=('headers', 'footers', 'quotes'))\n",
    "docs = data[\"data\"]\n",
    "targets = data[\"target\"]\n",
    "target_names = data[\"target_names\"]\n",
    "classes = [data[\"target_names\"][i] for i in data[\"target\"]]"
   ]
  },
  {
   "cell_type": "markdown",
   "metadata": {
    "id": "T1AUCzeyhl7N"
   },
   "source": [
    "Each document can be put into one of the following categories:"
   ]
  },
  {
   "cell_type": "code",
   "execution_count": null,
   "metadata": {
    "colab": {
     "base_uri": "https://localhost:8080/"
    },
    "id": "LcopPxhZdeOQ",
    "outputId": "b558df7d-f3a8-4fcd-b2af-cc186a08baf8"
   },
   "outputs": [
    {
     "data": {
      "text/plain": [
       "['alt.atheism',\n",
       " 'comp.graphics',\n",
       " 'comp.os.ms-windows.misc',\n",
       " 'comp.sys.ibm.pc.hardware',\n",
       " 'comp.sys.mac.hardware',\n",
       " 'comp.windows.x',\n",
       " 'misc.forsale',\n",
       " 'rec.autos',\n",
       " 'rec.motorcycles',\n",
       " 'rec.sport.baseball',\n",
       " 'rec.sport.hockey',\n",
       " 'sci.crypt',\n",
       " 'sci.electronics',\n",
       " 'sci.med',\n",
       " 'sci.space',\n",
       " 'soc.religion.christian',\n",
       " 'talk.politics.guns',\n",
       " 'talk.politics.mideast',\n",
       " 'talk.politics.misc',\n",
       " 'talk.religion.misc']"
      ]
     },
     "execution_count": 2,
     "metadata": {
      "tags": []
     },
     "output_type": "execute_result"
    }
   ],
   "source": [
    "target_names"
   ]
  },
  {
   "cell_type": "markdown",
   "metadata": {
    "id": "SBcNmZJzSTY8"
   },
   "source": [
    "# **(semi)-Supervised modeling**\n"
   ]
  },
  {
   "cell_type": "markdown",
   "metadata": {
    "id": "SivR3PQ4gq5b"
   },
   "source": [
    "## Basic Model\n",
    "Before we start with semi-supervised modeling, let us first take a look at the output of the basic model."
   ]
  },
  {
   "cell_type": "code",
   "execution_count": null,
   "metadata": {
    "colab": {
     "base_uri": "https://localhost:8080/",
     "height": 119,
     "referenced_widgets": [
      "cceb1d9854d64376940c42c10b817d17",
      "fff0c80ebbbf455c9e6fd055f830258b",
      "305c43af75f5456cb698cc901732d65e",
      "c4986325f6cb4d7bae36bd8f49847842",
      "d0620101a684490892159f5dee0c10bf",
      "cf376dda5e8b4046837d7dc7f05f20d9",
      "51734b4e1fe64ad7b24d754af2c51a50",
      "5750b64cc00b4b97ba7e9cc1784dfe23"
     ]
    },
    "id": "ObH_2X8LcyNP",
    "outputId": "b706cbae-9e08-4ffd-df12-0e35948b6087"
   },
   "outputs": [
    {
     "data": {
      "application/vnd.jupyter.widget-view+json": {
       "model_id": "cceb1d9854d64376940c42c10b817d17",
       "version_major": 2,
       "version_minor": 0
      },
      "text/plain": [
       "HBox(children=(FloatProgress(value=0.0, description='Batches', max=589.0, style=ProgressStyle(description_widt…"
      ]
     },
     "metadata": {
      "tags": []
     },
     "output_type": "display_data"
    },
    {
     "name": "stderr",
     "output_type": "stream",
     "text": [
      "2021-04-25 05:59:40,718 - BERTopic - Transformed documents to Embeddings\n"
     ]
    },
    {
     "name": "stdout",
     "output_type": "stream",
     "text": [
      "\n"
     ]
    },
    {
     "name": "stderr",
     "output_type": "stream",
     "text": [
      "2021-04-25 05:59:56,400 - BERTopic - Reduced dimensionality with UMAP\n",
      "2021-04-25 05:59:57,376 - BERTopic - Clustered UMAP embeddings with HDBSCAN\n"
     ]
    }
   ],
   "source": [
    "topic_model = BERTopic(verbose=True)\n",
    "topics, _ = topic_model.fit_transform(docs)"
   ]
  },
  {
   "cell_type": "code",
   "execution_count": null,
   "metadata": {
    "colab": {
     "base_uri": "https://localhost:8080/",
     "height": 363
    },
    "id": "ZsfxzEEHmsdm",
    "outputId": "512ea37a-089f-438a-a80a-9524cbb8b5e8"
   },
   "outputs": [
    {
     "data": {
      "text/html": [
       "\n",
       "  <div id=\"df-8aaf08f2-0c06-4ed4-b2e5-46a63250fe45\">\n",
       "    <div class=\"colab-df-container\">\n",
       "      <div>\n",
       "<style scoped>\n",
       "    .dataframe tbody tr th:only-of-type {\n",
       "        vertical-align: middle;\n",
       "    }\n",
       "\n",
       "    .dataframe tbody tr th {\n",
       "        vertical-align: top;\n",
       "    }\n",
       "\n",
       "    .dataframe thead th {\n",
       "        text-align: right;\n",
       "    }\n",
       "</style>\n",
       "<table border=\"1\" class=\"dataframe\">\n",
       "  <thead>\n",
       "    <tr style=\"text-align: right;\">\n",
       "      <th></th>\n",
       "      <th>Topic</th>\n",
       "      <th>Count</th>\n",
       "      <th>Name</th>\n",
       "    </tr>\n",
       "  </thead>\n",
       "  <tbody>\n",
       "    <tr>\n",
       "      <th>0</th>\n",
       "      <td>-1</td>\n",
       "      <td>6714</td>\n",
       "      <td>-1_to_is_the_of</td>\n",
       "    </tr>\n",
       "    <tr>\n",
       "      <th>1</th>\n",
       "      <td>0</td>\n",
       "      <td>1829</td>\n",
       "      <td>0_game_team_games_he</td>\n",
       "    </tr>\n",
       "    <tr>\n",
       "      <th>2</th>\n",
       "      <td>1</td>\n",
       "      <td>576</td>\n",
       "      <td>1_key_clipper_chip_encryption</td>\n",
       "    </tr>\n",
       "    <tr>\n",
       "      <th>3</th>\n",
       "      <td>2</td>\n",
       "      <td>526</td>\n",
       "      <td>2_ites_cheek_yep_huh</td>\n",
       "    </tr>\n",
       "    <tr>\n",
       "      <th>4</th>\n",
       "      <td>3</td>\n",
       "      <td>469</td>\n",
       "      <td>3_israel_israeli_jews_arab</td>\n",
       "    </tr>\n",
       "    <tr>\n",
       "      <th>5</th>\n",
       "      <td>4</td>\n",
       "      <td>444</td>\n",
       "      <td>4_drive_scsi_drives_ide</td>\n",
       "    </tr>\n",
       "    <tr>\n",
       "      <th>6</th>\n",
       "      <td>5</td>\n",
       "      <td>423</td>\n",
       "      <td>5_fbi_batf_koresh_fire</td>\n",
       "    </tr>\n",
       "    <tr>\n",
       "      <th>7</th>\n",
       "      <td>6</td>\n",
       "      <td>360</td>\n",
       "      <td>6_car_engine_cars_ford</td>\n",
       "    </tr>\n",
       "    <tr>\n",
       "      <th>8</th>\n",
       "      <td>7</td>\n",
       "      <td>188</td>\n",
       "      <td>7_ram_sale_drive_meg</td>\n",
       "    </tr>\n",
       "    <tr>\n",
       "      <th>9</th>\n",
       "      <td>8</td>\n",
       "      <td>182</td>\n",
       "      <td>8_bike_tires_tire_bikes</td>\n",
       "    </tr>\n",
       "  </tbody>\n",
       "</table>\n",
       "</div>\n",
       "      <button class=\"colab-df-convert\" onclick=\"convertToInteractive('df-8aaf08f2-0c06-4ed4-b2e5-46a63250fe45')\"\n",
       "              title=\"Convert this dataframe to an interactive table.\"\n",
       "              style=\"display:none;\">\n",
       "        \n",
       "  <svg xmlns=\"http://www.w3.org/2000/svg\" height=\"24px\"viewBox=\"0 0 24 24\"\n",
       "       width=\"24px\">\n",
       "    <path d=\"M0 0h24v24H0V0z\" fill=\"none\"/>\n",
       "    <path d=\"M18.56 5.44l.94 2.06.94-2.06 2.06-.94-2.06-.94-.94-2.06-.94 2.06-2.06.94zm-11 1L8.5 8.5l.94-2.06 2.06-.94-2.06-.94L8.5 2.5l-.94 2.06-2.06.94zm10 10l.94 2.06.94-2.06 2.06-.94-2.06-.94-.94-2.06-.94 2.06-2.06.94z\"/><path d=\"M17.41 7.96l-1.37-1.37c-.4-.4-.92-.59-1.43-.59-.52 0-1.04.2-1.43.59L10.3 9.45l-7.72 7.72c-.78.78-.78 2.05 0 2.83L4 21.41c.39.39.9.59 1.41.59.51 0 1.02-.2 1.41-.59l7.78-7.78 2.81-2.81c.8-.78.8-2.07 0-2.86zM5.41 20L4 18.59l7.72-7.72 1.47 1.35L5.41 20z\"/>\n",
       "  </svg>\n",
       "      </button>\n",
       "      \n",
       "  <style>\n",
       "    .colab-df-container {\n",
       "      display:flex;\n",
       "      flex-wrap:wrap;\n",
       "      gap: 12px;\n",
       "    }\n",
       "\n",
       "    .colab-df-convert {\n",
       "      background-color: #E8F0FE;\n",
       "      border: none;\n",
       "      border-radius: 50%;\n",
       "      cursor: pointer;\n",
       "      display: none;\n",
       "      fill: #1967D2;\n",
       "      height: 32px;\n",
       "      padding: 0 0 0 0;\n",
       "      width: 32px;\n",
       "    }\n",
       "\n",
       "    .colab-df-convert:hover {\n",
       "      background-color: #E2EBFA;\n",
       "      box-shadow: 0px 1px 2px rgba(60, 64, 67, 0.3), 0px 1px 3px 1px rgba(60, 64, 67, 0.15);\n",
       "      fill: #174EA6;\n",
       "    }\n",
       "\n",
       "    [theme=dark] .colab-df-convert {\n",
       "      background-color: #3B4455;\n",
       "      fill: #D2E3FC;\n",
       "    }\n",
       "\n",
       "    [theme=dark] .colab-df-convert:hover {\n",
       "      background-color: #434B5C;\n",
       "      box-shadow: 0px 1px 3px 1px rgba(0, 0, 0, 0.15);\n",
       "      filter: drop-shadow(0px 1px 2px rgba(0, 0, 0, 0.3));\n",
       "      fill: #FFFFFF;\n",
       "    }\n",
       "  </style>\n",
       "\n",
       "      <script>\n",
       "        const buttonEl =\n",
       "          document.querySelector('#df-8aaf08f2-0c06-4ed4-b2e5-46a63250fe45 button.colab-df-convert');\n",
       "        buttonEl.style.display =\n",
       "          google.colab.kernel.accessAllowed ? 'block' : 'none';\n",
       "\n",
       "        async function convertToInteractive(key) {\n",
       "          const element = document.querySelector('#df-8aaf08f2-0c06-4ed4-b2e5-46a63250fe45');\n",
       "          const dataTable =\n",
       "            await google.colab.kernel.invokeFunction('convertToInteractive',\n",
       "                                                     [key], {});\n",
       "          if (!dataTable) return;\n",
       "\n",
       "          const docLinkHtml = 'Like what you see? Visit the ' +\n",
       "            '<a target=\"_blank\" href=https://colab.research.google.com/notebooks/data_table.ipynb>data table notebook</a>'\n",
       "            + ' to learn more about interactive tables.';\n",
       "          element.innerHTML = '';\n",
       "          dataTable['output_type'] = 'display_data';\n",
       "          await google.colab.output.renderOutput(dataTable, element);\n",
       "          const docLink = document.createElement('div');\n",
       "          docLink.innerHTML = docLinkHtml;\n",
       "          element.appendChild(docLink);\n",
       "        }\n",
       "      </script>\n",
       "    </div>\n",
       "  </div>\n",
       "  "
      ],
      "text/plain": [
       "   Topic  Count                           Name\n",
       "0     -1   6714                -1_to_is_the_of\n",
       "1      0   1829           0_game_team_games_he\n",
       "2      1    576  1_key_clipper_chip_encryption\n",
       "3      2    526           2_ites_cheek_yep_huh\n",
       "4      3    469     3_israel_israeli_jews_arab\n",
       "5      4    444        4_drive_scsi_drives_ide\n",
       "6      5    423         5_fbi_batf_koresh_fire\n",
       "7      6    360         6_car_engine_cars_ford\n",
       "8      7    188           7_ram_sale_drive_meg\n",
       "9      8    182        8_bike_tires_tire_bikes"
      ]
     },
     "execution_count": 3,
     "metadata": {},
     "output_type": "execute_result"
    }
   ],
   "source": [
    "topic_model.get_topic_info().head(10)"
   ]
  },
  {
   "cell_type": "markdown",
   "metadata": {
    "id": "NJkDk7bQh4H1"
   },
   "source": [
    "The topics that were created mostly make sense. There are some clearly defined topics such as \"nasa, orbit, spacecraft, moon\" but also some topics that seem mostly derived from other topics. We can visualize this by extracting the topic representations per class and see if our unsupervised model closely resembles this. \n",
    "\n",
    "**NOTE**: You can **hover** over the bars to see the representation per class!!"
   ]
  },
  {
   "cell_type": "code",
   "execution_count": null,
   "metadata": {
    "colab": {
     "base_uri": "https://localhost:8080/",
     "height": 934
    },
    "id": "E3Oe3yFOmxqp",
    "outputId": "e9a04e5f-a049-4d48-8879-bea756e021a6"
   },
   "outputs": [
    {
     "name": "stderr",
     "output_type": "stream",
     "text": [
      "20it [00:06,  2.93it/s]\n"
     ]
    },
    {
     "data": {
      "text/html": [
       "<html>\n",
       "<head><meta charset=\"utf-8\" /></head>\n",
       "<body>\n",
       "    <div>            <script src=\"https://cdnjs.cloudflare.com/ajax/libs/mathjax/2.7.5/MathJax.js?config=TeX-AMS-MML_SVG\"></script><script type=\"text/javascript\">if (window.MathJax) {MathJax.Hub.Config({SVG: {font: \"STIX-Web\"}});}</script>                <script type=\"text/javascript\">window.PlotlyConfig = {MathJaxConfig: 'local'};</script>\n",
       "        <script src=\"https://cdn.plot.ly/plotly-2.8.3.min.js\"></script>                <div id=\"1826c1c4-2467-458f-80cf-4953c74780a0\" class=\"plotly-graph-div\" style=\"height:900px; width:1250px;\"></div>            <script type=\"text/javascript\">                                    window.PLOTLYENV=window.PLOTLYENV || {};                                    if (document.getElementById(\"1826c1c4-2467-458f-80cf-4953c74780a0\")) {                    Plotly.newPlot(                        \"1826c1c4-2467-458f-80cf-4953c74780a0\",                        [{\"hoverinfo\":\"text\",\"hovertext\":[\"<b>Topic 0</b><br>Words: phill, allsacred, bianchi, hungry, polar\",\"<b>Topic 0</b><br>Words: soccer, conference, philcmacseemcgillca, chicago, 45th\",\"<b>Topic 0</b><br>Words: game, team, he, games, year\",\"<b>Topic 0</b><br>Words: oooo, pureesageccjcs, stalnaker, jcssageccpurdueedu, ernest\",\"<b>Topic 0</b><br>Words: game, team, hockey, games, 25\",\"<b>Topic 0</b><br>Words: tickets, ticket, airlines, airline, northwest\",\"<b>Topic 0</b><br>Words: jonathan, cage, election, hed, film\",\"<b>Topic 0</b><br>Words: quinea, papua, translation, buying, seriously\",\"<b>Topic 0</b><br>Words: sonnet, saab, iii, believe, too\",\"<b>Topic 0</b><br>Words: philosopher, station, influential, plato, 500\",\"<b>Topic 0</b><br>Words: carpenter, pressuretreated, carpenters, stairs, conner\",\"<b>Topic 0</b><br>Words: sf, buffs, flynn, films, fans\",\"<b>Topic 0</b><br>Words: hoffer, mentions, fanatic, noone, anymore\",\"<b>Topic 0</b><br>Words: prisoners, sections, stones, pitchers, hairdresser\",\"<b>Topic 0</b><br>Words: sturm, doug, familiar, anyone, with\",\"<b>Topic 0</b><br>Words: dominant, dominance, cross, eye, study\",\"<b>Topic 0</b><br>Words: ticket, v4, v5, yall, reversed\"],\"marker\":{\"color\":\"#E69F00\"},\"name\":\"0_game_team_games_he\",\"orientation\":\"h\",\"visible\":true,\"x\":[4,2,859,1,904,22,9,1,1,6,3,4,1,6,1,3,2],\"y\":[\"talk.politics.guns\",\"sci.electronics\",\"rec.sport.baseball\",\"comp.sys.mac.hardware\",\"rec.sport.hockey\",\"misc.forsale\",\"rec.motorcycles\",\"comp.sys.ibm.pc.hardware\",\"rec.autos\",\"sci.space\",\"alt.atheism\",\"talk.politics.misc\",\"talk.religion.misc\",\"talk.politics.mideast\",\"soc.religion.christian\",\"sci.med\",\"sci.crypt\"],\"type\":\"bar\"},{\"hoverinfo\":\"text\",\"hovertext\":[\"<b>Topic 1</b><br>Words: irs, traceable, buyback, money, secure\",\"<b>Topic 1</b><br>Words: brilliant, flaw, sign, seriously, shown\",\"<b>Topic 1</b><br>Words: klemans, rcstage1urctuenl, resitance, guido, michelle\",\"<b>Topic 1</b><br>Words: sequences, parser, esc, dsc, compliant\",\"<b>Topic 1</b><br>Words: typos, hooks, greetings, al, clipper\",\"<b>Topic 1</b><br>Words: publish, karamankars, conically, moeny, scoriates\",\"<b>Topic 1</b><br>Words: mathew, keys, impropriety, offender, government\",\"<b>Topic 1</b><br>Words: initiative, wiretapping, urge, clintons, film\",\"<b>Topic 1</b><br>Words: monitoring, beijing, peacenet, igcs, balkanmideast\",\"<b>Topic 1</b><br>Words: ssn, whoa, smoking, foods, eh\",\"<b>Topic 1</b><br>Words: key, clipper, chip, encryption, keys\"],\"marker\":{\"color\":\"#56B4E9\"},\"name\":\"1_key_clipper_chip_encryption\",\"orientation\":\"h\",\"visible\":\"legendonly\",\"x\":[8,1,2,1,1,2,2,5,1,1,552],\"y\":[\"talk.politics.guns\",\"comp.graphics\",\"sci.electronics\",\"comp.windows.x\",\"misc.forsale\",\"sci.space\",\"alt.atheism\",\"talk.politics.misc\",\"talk.politics.mideast\",\"sci.med\",\"sci.crypt\"],\"type\":\"bar\"},{\"hoverinfo\":\"text\",\"hovertext\":[\"<b>Topic 2</b><br>Words: ites, cheek, yep, huh, ken\",\"<b>Topic 2</b><br>Words: ites, cheek, yep, huh, ken\",\"<b>Topic 2</b><br>Words: ites, cheek, yep, huh, ken\",\"<b>Topic 2</b><br>Words: ites, cheek, yep, huh, ken\",\"<b>Topic 2</b><br>Words: why, ites, cheek, yep, huh\",\"<b>Topic 2</b><br>Words: each, ites, cheek, yep, huh\",\"<b>Topic 2</b><br>Words: ites, cheek, yep, huh, ken\",\"<b>Topic 2</b><br>Words: ites, cheek, yep, huh, ken\",\"<b>Topic 2</b><br>Words: ken, ites, cheek, yep, huh\",\"<b>Topic 2</b><br>Words: yep, huh, forget, lets, ites\",\"<b>Topic 2</b><br>Words: ites, cheek, yep, huh, ken\",\"<b>Topic 2</b><br>Words: ites, cheek, yep, huh, ken\",\"<b>Topic 2</b><br>Words: ites, cheek, yep, huh, ken\",\"<b>Topic 2</b><br>Words: ites, cheek, yep, huh, ken\",\"<b>Topic 2</b><br>Words: again, not, ites, cheek, this\",\"<b>Topic 2</b><br>Words: ites, cheek, yep, huh, ken\",\"<b>Topic 2</b><br>Words: ites, cheek, yep, huh, ken\",\"<b>Topic 2</b><br>Words: ites, cheek, yep, huh, ken\",\"<b>Topic 2</b><br>Words: ites, cheek, yep, huh, ken\",\"<b>Topic 2</b><br>Words: ites, cheek, yep, huh, ken\"],\"marker\":{\"color\":\"#009E73\"},\"name\":\"2_ites_cheek_yep_huh\",\"orientation\":\"h\",\"visible\":\"legendonly\",\"x\":[24,18,26,38,38,35,24,6,17,30,18,55,32,20,20,23,21,22,30,29],\"y\":[\"talk.politics.guns\",\"comp.graphics\",\"sci.electronics\",\"comp.os.ms-windows.misc\",\"rec.sport.baseball\",\"comp.sys.mac.hardware\",\"rec.sport.hockey\",\"comp.windows.x\",\"misc.forsale\",\"rec.motorcycles\",\"comp.sys.ibm.pc.hardware\",\"rec.autos\",\"sci.space\",\"alt.atheism\",\"talk.politics.misc\",\"talk.religion.misc\",\"talk.politics.mideast\",\"soc.religion.christian\",\"sci.med\",\"sci.crypt\"],\"type\":\"bar\"},{\"hoverinfo\":\"text\",\"hovertext\":[\"<b>Topic 3</b><br>Words: nazi, dodd, law, gca, jpfo\",\"<b>Topic 3</b><br>Words: aftershave, nz, intermediate, readings, sockets\",\"<b>Topic 3</b><br>Words: mutually, polish, exclusive, jewish, not\",\"<b>Topic 3</b><br>Words: jews, antisemitism, sightseeing, israel, casual\",\"<b>Topic 3</b><br>Words: hitler, antidefamation, nazis, israel, limbaugh\",\"<b>Topic 3</b><br>Words: nazis, homosexuality, jews, roehm, christian\",\"<b>Topic 3</b><br>Words: israel, israeli, jews, arab, arabs\",\"<b>Topic 3</b><br>Words: proselytism, jewish, jews, speak, temple\"],\"marker\":{\"color\":\"#F0E442\"},\"name\":\"3_israel_israeli_jews_arab\",\"orientation\":\"h\",\"visible\":\"legendonly\",\"x\":[5,2,1,15,10,12,418,6],\"y\":[\"talk.politics.guns\",\"sci.electronics\",\"rec.sport.baseball\",\"alt.atheism\",\"talk.politics.misc\",\"talk.religion.misc\",\"talk.politics.mideast\",\"soc.religion.christian\"],\"type\":\"bar\"},{\"hoverinfo\":\"text\",\"hovertext\":[\"<b>Topic 4</b><br>Words: hippi, mbsec, maximum, model, faster\",\"<b>Topic 4</b><br>Words: drive, smd, scsi, adapter, omti\",\"<b>Topic 4</b><br>Words: eisa, drive, isa, scsi, bus\",\"<b>Topic 4</b><br>Words: drive, scsi, drives, disk, mac\",\"<b>Topic 4</b><br>Words: eisa, 908, chipsets, xfree86, 3f428\",\"<b>Topic 4</b><br>Words: drive, scsi, disk, disks, controller\",\"<b>Topic 4</b><br>Words: drive, scsi, ide, drives, controller\",\"<b>Topic 4</b><br>Words: 360k, disks, flipside, side, freebie\"],\"marker\":{\"color\":\"#D55E00\"},\"name\":\"4_drive_scsi_drives_ide\",\"orientation\":\"h\",\"visible\":\"legendonly\",\"x\":[1,7,20,129,2,41,243,1],\"y\":[\"comp.graphics\",\"sci.electronics\",\"comp.os.ms-windows.misc\",\"comp.sys.mac.hardware\",\"comp.windows.x\",\"misc.forsale\",\"comp.sys.ibm.pc.hardware\",\"sci.crypt\"],\"type\":\"bar\"},{\"hoverinfo\":\"text\",\"hovertext\":[\"<b>Topic 5</b><br>Words: fbi, batf, fire, koresh, compound\",\"<b>Topic 5</b><br>Words: butane, flammable, wd40, nontoxic, definately\",\"<b>Topic 5</b><br>Words: doom, catch, kreme, department, inflicting\",\"<b>Topic 5</b><br>Words: batf, kindling, warrant, concussion, compound\",\"<b>Topic 5</b><br>Words: projectile, gun, barrel, chamber, gas\",\"<b>Topic 5</b><br>Words: koresh, wp50, sequel, david, finished\",\"<b>Topic 5</b><br>Words: batf, fbi, koresh, fire, compound\",\"<b>Topic 5</b><br>Words: koresh, fbi, fire, batf, compound\",\"<b>Topic 5</b><br>Words: fbigov, incitement, pollard, bureau, investigation\",\"<b>Topic 5</b><br>Words: compound, prophet, claimed, koresh, tear\",\"<b>Topic 5</b><br>Words: waco, tx, cs, laryngospasm, lanham\",\"<b>Topic 5</b><br>Words: waco, fbi, tactic, xd, massacre\"],\"marker\":{\"color\":\"#0072B2\"},\"name\":\"5_fbi_batf_koresh_fire\",\"orientation\":\"h\",\"visible\":\"legendonly\",\"x\":[255,6,2,3,3,8,77,56,2,2,3,6],\"y\":[\"talk.politics.guns\",\"sci.electronics\",\"rec.motorcycles\",\"rec.autos\",\"sci.space\",\"alt.atheism\",\"talk.politics.misc\",\"talk.religion.misc\",\"talk.politics.mideast\",\"soc.religion.christian\",\"sci.med\",\"sci.crypt\"],\"type\":\"bar\"},{\"hoverinfo\":\"text\",\"hovertext\":[\"<b>Topic 6</b><br>Words: car, miles, amfm, toyota, condition\",\"<b>Topic 6</b><br>Words: fairing, horns, front, frame, car\",\"<b>Topic 6</b><br>Words: car, cars, engine, ford, mustang\",\"<b>Topic 6</b><br>Words: rs71, mippselled, lbj, dubbed, sr71\",\"<b>Topic 6</b><br>Words: bulgaria, vesselin, embargo, controls, plenty\"],\"marker\":{\"color\":\"#CC79A7\"},\"name\":\"6_car_engine_cars_ford\",\"orientation\":\"h\",\"visible\":\"legendonly\",\"x\":[39,11,308,1,1],\"y\":[\"misc.forsale\",\"rec.motorcycles\",\"rec.autos\",\"sci.space\",\"sci.crypt\"],\"type\":\"bar\"},{\"hoverinfo\":\"text\",\"hovertext\":[\"<b>Topic 7</b><br>Words: 50, 300, 10, 495, 35\",\"<b>Topic 7</b><br>Words: 256k, mono, 80x25, 01, drives\",\"<b>Topic 7</b><br>Words: mailorder, library, clip, art, eps\",\"<b>Topic 7</b><br>Words: eu, ram, meg, price, apple\",\"<b>Topic 7</b><br>Words: functinality, applesapples, 48650s39288mb15200mbdisk, cost, pcs\",\"<b>Topic 7</b><br>Words: sale, drive, ram, meg, shipping\",\"<b>Topic 7</b><br>Words: monitor, mb, ram, motherboard, system\",\"<b>Topic 7</b><br>Words: totalled, miata, dell, 10k, rumor\"],\"marker\":{\"color\":\"#E69F00\"},\"name\":\"7_ram_sale_drive_meg\",\"orientation\":\"h\",\"visible\":\"legendonly\",\"x\":[2,2,6,13,1,121,42,1],\"y\":[\"comp.graphics\",\"sci.electronics\",\"comp.os.ms-windows.misc\",\"comp.sys.mac.hardware\",\"comp.windows.x\",\"misc.forsale\",\"comp.sys.ibm.pc.hardware\",\"rec.autos\"],\"type\":\"bar\"},{\"hoverinfo\":\"text\",\"hovertext\":[\"<b>Topic 8</b><br>Words: mower, bike, tires, rear, lawn\",\"<b>Topic 8</b><br>Words: bike, bikes, miles, honda, tires\",\"<b>Topic 8</b><br>Words: tires, car, fluids, bike, brake\",\"<b>Topic 8</b><br>Words: classes, 7billion, competetors, racingmotocycle, 6billion\"],\"marker\":{\"color\":\"#56B4E9\"},\"name\":\"8_bike_tires_tire_bikes\",\"orientation\":\"h\",\"visible\":\"legendonly\",\"x\":[13,148,20,1],\"y\":[\"misc.forsale\",\"rec.motorcycles\",\"rec.autos\",\"sci.space\"],\"type\":\"bar\"},{\"hoverinfo\":\"text\",\"hovertext\":[\"<b>Topic 9</b><br>Words: gun, guns, crime, firearms, homicide\",\"<b>Topic 9</b><br>Words: sword, hoppedup, luxosedan, cleaved, burnham\",\"<b>Topic 9</b><br>Words: carrying, glove, gun, screwing, concealed\",\"<b>Topic 9</b><br>Words: firearms, collection, 357, preference, significance\",\"<b>Topic 9</b><br>Words: vests, bulletproof, promote, usage, safe\",\"<b>Topic 9</b><br>Words: gonorrhea, gun, cdc, influenza, increased\",\"<b>Topic 9</b><br>Words: lasergames, galleries, carnivals, lawyers, travelling\"],\"marker\":{\"color\":\"#009E73\"},\"name\":\"9_gun_guns_crime_firearms\",\"orientation\":\"h\",\"visible\":\"legendonly\",\"x\":[141,2,6,5,1,1,2],\"y\":[\"talk.politics.guns\",\"rec.motorcycles\",\"rec.autos\",\"talk.religion.misc\",\"soc.religion.christian\",\"sci.med\",\"sci.crypt\"],\"type\":\"bar\"}],                        {\"template\":{\"data\":{\"barpolar\":[{\"marker\":{\"line\":{\"color\":\"white\",\"width\":0.5},\"pattern\":{\"fillmode\":\"overlay\",\"size\":10,\"solidity\":0.2}},\"type\":\"barpolar\"}],\"bar\":[{\"error_x\":{\"color\":\"rgb(36,36,36)\"},\"error_y\":{\"color\":\"rgb(36,36,36)\"},\"marker\":{\"line\":{\"color\":\"white\",\"width\":0.5},\"pattern\":{\"fillmode\":\"overlay\",\"size\":10,\"solidity\":0.2}},\"type\":\"bar\"}],\"carpet\":[{\"aaxis\":{\"endlinecolor\":\"rgb(36,36,36)\",\"gridcolor\":\"white\",\"linecolor\":\"white\",\"minorgridcolor\":\"white\",\"startlinecolor\":\"rgb(36,36,36)\"},\"baxis\":{\"endlinecolor\":\"rgb(36,36,36)\",\"gridcolor\":\"white\",\"linecolor\":\"white\",\"minorgridcolor\":\"white\",\"startlinecolor\":\"rgb(36,36,36)\"},\"type\":\"carpet\"}],\"choropleth\":[{\"colorbar\":{\"outlinewidth\":1,\"tickcolor\":\"rgb(36,36,36)\",\"ticks\":\"outside\"},\"type\":\"choropleth\"}],\"contourcarpet\":[{\"colorbar\":{\"outlinewidth\":1,\"tickcolor\":\"rgb(36,36,36)\",\"ticks\":\"outside\"},\"type\":\"contourcarpet\"}],\"contour\":[{\"colorbar\":{\"outlinewidth\":1,\"tickcolor\":\"rgb(36,36,36)\",\"ticks\":\"outside\"},\"colorscale\":[[0.0,\"#440154\"],[0.1111111111111111,\"#482878\"],[0.2222222222222222,\"#3e4989\"],[0.3333333333333333,\"#31688e\"],[0.4444444444444444,\"#26828e\"],[0.5555555555555556,\"#1f9e89\"],[0.6666666666666666,\"#35b779\"],[0.7777777777777778,\"#6ece58\"],[0.8888888888888888,\"#b5de2b\"],[1.0,\"#fde725\"]],\"type\":\"contour\"}],\"heatmapgl\":[{\"colorbar\":{\"outlinewidth\":1,\"tickcolor\":\"rgb(36,36,36)\",\"ticks\":\"outside\"},\"colorscale\":[[0.0,\"#440154\"],[0.1111111111111111,\"#482878\"],[0.2222222222222222,\"#3e4989\"],[0.3333333333333333,\"#31688e\"],[0.4444444444444444,\"#26828e\"],[0.5555555555555556,\"#1f9e89\"],[0.6666666666666666,\"#35b779\"],[0.7777777777777778,\"#6ece58\"],[0.8888888888888888,\"#b5de2b\"],[1.0,\"#fde725\"]],\"type\":\"heatmapgl\"}],\"heatmap\":[{\"colorbar\":{\"outlinewidth\":1,\"tickcolor\":\"rgb(36,36,36)\",\"ticks\":\"outside\"},\"colorscale\":[[0.0,\"#440154\"],[0.1111111111111111,\"#482878\"],[0.2222222222222222,\"#3e4989\"],[0.3333333333333333,\"#31688e\"],[0.4444444444444444,\"#26828e\"],[0.5555555555555556,\"#1f9e89\"],[0.6666666666666666,\"#35b779\"],[0.7777777777777778,\"#6ece58\"],[0.8888888888888888,\"#b5de2b\"],[1.0,\"#fde725\"]],\"type\":\"heatmap\"}],\"histogram2dcontour\":[{\"colorbar\":{\"outlinewidth\":1,\"tickcolor\":\"rgb(36,36,36)\",\"ticks\":\"outside\"},\"colorscale\":[[0.0,\"#440154\"],[0.1111111111111111,\"#482878\"],[0.2222222222222222,\"#3e4989\"],[0.3333333333333333,\"#31688e\"],[0.4444444444444444,\"#26828e\"],[0.5555555555555556,\"#1f9e89\"],[0.6666666666666666,\"#35b779\"],[0.7777777777777778,\"#6ece58\"],[0.8888888888888888,\"#b5de2b\"],[1.0,\"#fde725\"]],\"type\":\"histogram2dcontour\"}],\"histogram2d\":[{\"colorbar\":{\"outlinewidth\":1,\"tickcolor\":\"rgb(36,36,36)\",\"ticks\":\"outside\"},\"colorscale\":[[0.0,\"#440154\"],[0.1111111111111111,\"#482878\"],[0.2222222222222222,\"#3e4989\"],[0.3333333333333333,\"#31688e\"],[0.4444444444444444,\"#26828e\"],[0.5555555555555556,\"#1f9e89\"],[0.6666666666666666,\"#35b779\"],[0.7777777777777778,\"#6ece58\"],[0.8888888888888888,\"#b5de2b\"],[1.0,\"#fde725\"]],\"type\":\"histogram2d\"}],\"histogram\":[{\"marker\":{\"line\":{\"color\":\"white\",\"width\":0.6}},\"type\":\"histogram\"}],\"mesh3d\":[{\"colorbar\":{\"outlinewidth\":1,\"tickcolor\":\"rgb(36,36,36)\",\"ticks\":\"outside\"},\"type\":\"mesh3d\"}],\"parcoords\":[{\"line\":{\"colorbar\":{\"outlinewidth\":1,\"tickcolor\":\"rgb(36,36,36)\",\"ticks\":\"outside\"}},\"type\":\"parcoords\"}],\"pie\":[{\"automargin\":true,\"type\":\"pie\"}],\"scatter3d\":[{\"line\":{\"colorbar\":{\"outlinewidth\":1,\"tickcolor\":\"rgb(36,36,36)\",\"ticks\":\"outside\"}},\"marker\":{\"colorbar\":{\"outlinewidth\":1,\"tickcolor\":\"rgb(36,36,36)\",\"ticks\":\"outside\"}},\"type\":\"scatter3d\"}],\"scattercarpet\":[{\"marker\":{\"colorbar\":{\"outlinewidth\":1,\"tickcolor\":\"rgb(36,36,36)\",\"ticks\":\"outside\"}},\"type\":\"scattercarpet\"}],\"scattergeo\":[{\"marker\":{\"colorbar\":{\"outlinewidth\":1,\"tickcolor\":\"rgb(36,36,36)\",\"ticks\":\"outside\"}},\"type\":\"scattergeo\"}],\"scattergl\":[{\"marker\":{\"colorbar\":{\"outlinewidth\":1,\"tickcolor\":\"rgb(36,36,36)\",\"ticks\":\"outside\"}},\"type\":\"scattergl\"}],\"scattermapbox\":[{\"marker\":{\"colorbar\":{\"outlinewidth\":1,\"tickcolor\":\"rgb(36,36,36)\",\"ticks\":\"outside\"}},\"type\":\"scattermapbox\"}],\"scatterpolargl\":[{\"marker\":{\"colorbar\":{\"outlinewidth\":1,\"tickcolor\":\"rgb(36,36,36)\",\"ticks\":\"outside\"}},\"type\":\"scatterpolargl\"}],\"scatterpolar\":[{\"marker\":{\"colorbar\":{\"outlinewidth\":1,\"tickcolor\":\"rgb(36,36,36)\",\"ticks\":\"outside\"}},\"type\":\"scatterpolar\"}],\"scatter\":[{\"marker\":{\"colorbar\":{\"outlinewidth\":1,\"tickcolor\":\"rgb(36,36,36)\",\"ticks\":\"outside\"}},\"type\":\"scatter\"}],\"scatterternary\":[{\"marker\":{\"colorbar\":{\"outlinewidth\":1,\"tickcolor\":\"rgb(36,36,36)\",\"ticks\":\"outside\"}},\"type\":\"scatterternary\"}],\"surface\":[{\"colorbar\":{\"outlinewidth\":1,\"tickcolor\":\"rgb(36,36,36)\",\"ticks\":\"outside\"},\"colorscale\":[[0.0,\"#440154\"],[0.1111111111111111,\"#482878\"],[0.2222222222222222,\"#3e4989\"],[0.3333333333333333,\"#31688e\"],[0.4444444444444444,\"#26828e\"],[0.5555555555555556,\"#1f9e89\"],[0.6666666666666666,\"#35b779\"],[0.7777777777777778,\"#6ece58\"],[0.8888888888888888,\"#b5de2b\"],[1.0,\"#fde725\"]],\"type\":\"surface\"}],\"table\":[{\"cells\":{\"fill\":{\"color\":\"rgb(237,237,237)\"},\"line\":{\"color\":\"white\"}},\"header\":{\"fill\":{\"color\":\"rgb(217,217,217)\"},\"line\":{\"color\":\"white\"}},\"type\":\"table\"}]},\"layout\":{\"annotationdefaults\":{\"arrowhead\":0,\"arrowwidth\":1},\"autotypenumbers\":\"strict\",\"coloraxis\":{\"colorbar\":{\"outlinewidth\":1,\"tickcolor\":\"rgb(36,36,36)\",\"ticks\":\"outside\"}},\"colorscale\":{\"diverging\":[[0.0,\"rgb(103,0,31)\"],[0.1,\"rgb(178,24,43)\"],[0.2,\"rgb(214,96,77)\"],[0.3,\"rgb(244,165,130)\"],[0.4,\"rgb(253,219,199)\"],[0.5,\"rgb(247,247,247)\"],[0.6,\"rgb(209,229,240)\"],[0.7,\"rgb(146,197,222)\"],[0.8,\"rgb(67,147,195)\"],[0.9,\"rgb(33,102,172)\"],[1.0,\"rgb(5,48,97)\"]],\"sequential\":[[0.0,\"#440154\"],[0.1111111111111111,\"#482878\"],[0.2222222222222222,\"#3e4989\"],[0.3333333333333333,\"#31688e\"],[0.4444444444444444,\"#26828e\"],[0.5555555555555556,\"#1f9e89\"],[0.6666666666666666,\"#35b779\"],[0.7777777777777778,\"#6ece58\"],[0.8888888888888888,\"#b5de2b\"],[1.0,\"#fde725\"]],\"sequentialminus\":[[0.0,\"#440154\"],[0.1111111111111111,\"#482878\"],[0.2222222222222222,\"#3e4989\"],[0.3333333333333333,\"#31688e\"],[0.4444444444444444,\"#26828e\"],[0.5555555555555556,\"#1f9e89\"],[0.6666666666666666,\"#35b779\"],[0.7777777777777778,\"#6ece58\"],[0.8888888888888888,\"#b5de2b\"],[1.0,\"#fde725\"]]},\"colorway\":[\"#1F77B4\",\"#FF7F0E\",\"#2CA02C\",\"#D62728\",\"#9467BD\",\"#8C564B\",\"#E377C2\",\"#7F7F7F\",\"#BCBD22\",\"#17BECF\"],\"font\":{\"color\":\"rgb(36,36,36)\"},\"geo\":{\"bgcolor\":\"white\",\"lakecolor\":\"white\",\"landcolor\":\"white\",\"showlakes\":true,\"showland\":true,\"subunitcolor\":\"white\"},\"hoverlabel\":{\"align\":\"left\"},\"hovermode\":\"closest\",\"mapbox\":{\"style\":\"light\"},\"paper_bgcolor\":\"white\",\"plot_bgcolor\":\"white\",\"polar\":{\"angularaxis\":{\"gridcolor\":\"rgb(232,232,232)\",\"linecolor\":\"rgb(36,36,36)\",\"showgrid\":false,\"showline\":true,\"ticks\":\"outside\"},\"bgcolor\":\"white\",\"radialaxis\":{\"gridcolor\":\"rgb(232,232,232)\",\"linecolor\":\"rgb(36,36,36)\",\"showgrid\":false,\"showline\":true,\"ticks\":\"outside\"}},\"scene\":{\"xaxis\":{\"backgroundcolor\":\"white\",\"gridcolor\":\"rgb(232,232,232)\",\"gridwidth\":2,\"linecolor\":\"rgb(36,36,36)\",\"showbackground\":true,\"showgrid\":false,\"showline\":true,\"ticks\":\"outside\",\"zeroline\":false,\"zerolinecolor\":\"rgb(36,36,36)\"},\"yaxis\":{\"backgroundcolor\":\"white\",\"gridcolor\":\"rgb(232,232,232)\",\"gridwidth\":2,\"linecolor\":\"rgb(36,36,36)\",\"showbackground\":true,\"showgrid\":false,\"showline\":true,\"ticks\":\"outside\",\"zeroline\":false,\"zerolinecolor\":\"rgb(36,36,36)\"},\"zaxis\":{\"backgroundcolor\":\"white\",\"gridcolor\":\"rgb(232,232,232)\",\"gridwidth\":2,\"linecolor\":\"rgb(36,36,36)\",\"showbackground\":true,\"showgrid\":false,\"showline\":true,\"ticks\":\"outside\",\"zeroline\":false,\"zerolinecolor\":\"rgb(36,36,36)\"}},\"shapedefaults\":{\"fillcolor\":\"black\",\"line\":{\"width\":0},\"opacity\":0.3},\"ternary\":{\"aaxis\":{\"gridcolor\":\"rgb(232,232,232)\",\"linecolor\":\"rgb(36,36,36)\",\"showgrid\":false,\"showline\":true,\"ticks\":\"outside\"},\"baxis\":{\"gridcolor\":\"rgb(232,232,232)\",\"linecolor\":\"rgb(36,36,36)\",\"showgrid\":false,\"showline\":true,\"ticks\":\"outside\"},\"bgcolor\":\"white\",\"caxis\":{\"gridcolor\":\"rgb(232,232,232)\",\"linecolor\":\"rgb(36,36,36)\",\"showgrid\":false,\"showline\":true,\"ticks\":\"outside\"}},\"title\":{\"x\":0.05},\"xaxis\":{\"automargin\":true,\"gridcolor\":\"rgb(232,232,232)\",\"linecolor\":\"rgb(36,36,36)\",\"showgrid\":false,\"showline\":true,\"ticks\":\"outside\",\"title\":{\"standoff\":15},\"zeroline\":false,\"zerolinecolor\":\"rgb(36,36,36)\"},\"yaxis\":{\"automargin\":true,\"gridcolor\":\"rgb(232,232,232)\",\"linecolor\":\"rgb(36,36,36)\",\"showgrid\":false,\"showline\":true,\"ticks\":\"outside\",\"title\":{\"standoff\":15},\"zeroline\":false,\"zerolinecolor\":\"rgb(36,36,36)\"}}},\"xaxis\":{\"showgrid\":true,\"title\":{\"text\":\"Frequency\"}},\"yaxis\":{\"showgrid\":true,\"title\":{\"text\":\"Class\"}},\"title\":{\"font\":{\"size\":22,\"color\":\"Black\"},\"text\":\"<b>Topics per Class\",\"y\":0.95,\"x\":0.4,\"xanchor\":\"center\",\"yanchor\":\"top\"},\"hoverlabel\":{\"font\":{\"size\":16,\"family\":\"Rockwell\"},\"bgcolor\":\"white\"},\"width\":1250,\"height\":900,\"legend\":{\"title\":{\"text\":\"<b>Global Topic Representation\"}}},                        {\"responsive\": true}                    ).then(function(){\n",
       "                            \n",
       "var gd = document.getElementById('1826c1c4-2467-458f-80cf-4953c74780a0');\n",
       "var x = new MutationObserver(function (mutations, observer) {{\n",
       "        var display = window.getComputedStyle(gd).display;\n",
       "        if (!display || display === 'none') {{\n",
       "            console.log([gd, 'removed!']);\n",
       "            Plotly.purge(gd);\n",
       "            observer.disconnect();\n",
       "        }}\n",
       "}});\n",
       "\n",
       "// Listen for the removal of the full notebook cells\n",
       "var notebookContainer = gd.closest('#notebook-container');\n",
       "if (notebookContainer) {{\n",
       "    x.observe(notebookContainer, {childList: true});\n",
       "}}\n",
       "\n",
       "// Listen for the clearing of the current output cell\n",
       "var outputEl = gd.closest('.output');\n",
       "if (outputEl) {{\n",
       "    x.observe(outputEl, {childList: true});\n",
       "}}\n",
       "\n",
       "                        })                };                            </script>        </div>\n",
       "</body>\n",
       "</html>"
      ]
     },
     "metadata": {},
     "output_type": "display_data"
    }
   ],
   "source": [
    "topics_per_class = topic_model.topics_per_class(docs, classes=classes)\n",
    "fig_unsupervised = topic_model.visualize_topics_per_class(topics_per_class, top_n_topics=10)\n",
    "fig_unsupervised"
   ]
  },
  {
   "cell_type": "markdown",
   "metadata": {
    "id": "uV2wrpuWn4-K"
   },
   "source": [
    "The results do seem promising. Topics like \"nasa, space, etc\" seem to be clearly related to sci.space, but some topics were created that span many categories. For example, we expect the topic \"bike, bikes, etc\"  to only appear in rec.motorcycles.  "
   ]
  },
  {
   "cell_type": "markdown",
   "metadata": {
    "id": "5eTm6Di6dAq8"
   },
   "source": [
    "## Semi-supervised\n",
    "In the example above you might notice that some topics were somewhat smushed together. What we would like to see is a clear separation between those topics. Fortunately, we have to labels and can use them to improve the model. \n",
    "\n",
    "Since we are not interested in any other topics, this method is called semi-supervised topic modeling. In practice, this means that we have the labels of some documents but not all. \n",
    "\n",
    "For this example let's say we only have the labels of all computer-related categories:"
   ]
  },
  {
   "cell_type": "code",
   "execution_count": null,
   "metadata": {
    "id": "Qx8e2s0jfPbM"
   },
   "outputs": [],
   "source": [
    " labels_to_add = ['comp.graphics', 'comp.os.ms-windows.misc',\n",
    "                  'comp.sys.ibm.pc.hardware', 'comp.sys.mac.hardware',\n",
    "                  'comp.windows.x',]\n",
    " indices = [target_names.index(label) for label in labels_to_add]\n",
    " new_labels = [label if label in indices else -1 for label in targets]"
   ]
  },
  {
   "cell_type": "markdown",
   "metadata": {
    "id": "gnizBY2JinQZ"
   },
   "source": [
    "When generating our new labels it is important to mark unknown classes as **-1**. Next, we use those newly constructed labels to again run BERTopic:"
   ]
  },
  {
   "cell_type": "code",
   "execution_count": null,
   "metadata": {
    "colab": {
     "base_uri": "https://localhost:8080/",
     "height": 119,
     "referenced_widgets": [
      "9f4d1f9f616c441aa617accbcf259ecc",
      "abf35b94dbca4524a6dd3d312be8e187",
      "072b53592ce549008d4d6f4f9ca5416e",
      "4eb36960c3fa46e4b0f57253bf96f828",
      "bc52ea83368c4228bfcb8e28d9ad128c",
      "0c02a7194ffe402b97b4a1c0f2a5ed75",
      "0cd33ac02b014c79859e8cfc01d4f164",
      "6ef376f3104842779a505b8fc050a3cc"
     ]
    },
    "id": "2FNFTvhadAE5",
    "outputId": "2c93c5d4-c053-411e-8248-2cbba26de3b0"
   },
   "outputs": [
    {
     "data": {
      "application/vnd.jupyter.widget-view+json": {
       "model_id": "9f4d1f9f616c441aa617accbcf259ecc",
       "version_major": 2,
       "version_minor": 0
      },
      "text/plain": [
       "HBox(children=(FloatProgress(value=0.0, description='Batches', max=589.0, style=ProgressStyle(description_widt…"
      ]
     },
     "metadata": {
      "tags": []
     },
     "output_type": "display_data"
    },
    {
     "name": "stderr",
     "output_type": "stream",
     "text": [
      "2021-04-25 05:55:43,262 - BERTopic - Transformed documents to Embeddings\n"
     ]
    },
    {
     "name": "stdout",
     "output_type": "stream",
     "text": [
      "\n"
     ]
    },
    {
     "name": "stderr",
     "output_type": "stream",
     "text": [
      "2021-04-25 05:56:03,260 - BERTopic - Reduced dimensionality with UMAP\n",
      "2021-04-25 05:56:05,695 - BERTopic - Clustered UMAP embeddings with HDBSCAN\n"
     ]
    }
   ],
   "source": [
    "topic_model = BERTopic(verbose=True)\n",
    "topics, _ = topic_model.fit_transform(docs, y=new_labels)"
   ]
  },
  {
   "cell_type": "code",
   "execution_count": null,
   "metadata": {
    "colab": {
     "base_uri": "https://localhost:8080/",
     "height": 363
    },
    "id": "VxdyTMiQc-j4",
    "outputId": "6f314d7f-f51d-4d9b-fd4c-9c6665c26c5c"
   },
   "outputs": [
    {
     "data": {
      "text/html": [
       "\n",
       "  <div id=\"df-dc777a7a-ec2b-4513-9c34-4d82fed782e7\">\n",
       "    <div class=\"colab-df-container\">\n",
       "      <div>\n",
       "<style scoped>\n",
       "    .dataframe tbody tr th:only-of-type {\n",
       "        vertical-align: middle;\n",
       "    }\n",
       "\n",
       "    .dataframe tbody tr th {\n",
       "        vertical-align: top;\n",
       "    }\n",
       "\n",
       "    .dataframe thead th {\n",
       "        text-align: right;\n",
       "    }\n",
       "</style>\n",
       "<table border=\"1\" class=\"dataframe\">\n",
       "  <thead>\n",
       "    <tr style=\"text-align: right;\">\n",
       "      <th></th>\n",
       "      <th>Topic</th>\n",
       "      <th>Count</th>\n",
       "      <th>Name</th>\n",
       "    </tr>\n",
       "  </thead>\n",
       "  <tbody>\n",
       "    <tr>\n",
       "      <th>0</th>\n",
       "      <td>-1</td>\n",
       "      <td>5445</td>\n",
       "      <td>-1_the_of_to_and</td>\n",
       "    </tr>\n",
       "    <tr>\n",
       "      <th>1</th>\n",
       "      <td>0</td>\n",
       "      <td>1815</td>\n",
       "      <td>0_game_team_he_games</td>\n",
       "    </tr>\n",
       "    <tr>\n",
       "      <th>2</th>\n",
       "      <td>1</td>\n",
       "      <td>875</td>\n",
       "      <td>1_window_server_motif_widget</td>\n",
       "    </tr>\n",
       "    <tr>\n",
       "      <th>3</th>\n",
       "      <td>2</td>\n",
       "      <td>861</td>\n",
       "      <td>2_image_jpeg_images_graphics</td>\n",
       "    </tr>\n",
       "    <tr>\n",
       "      <th>4</th>\n",
       "      <td>3</td>\n",
       "      <td>593</td>\n",
       "      <td>3_key_clipper_chip_encryption</td>\n",
       "    </tr>\n",
       "    <tr>\n",
       "      <th>5</th>\n",
       "      <td>4</td>\n",
       "      <td>550</td>\n",
       "      <td>4_windows_dos_file_files</td>\n",
       "    </tr>\n",
       "    <tr>\n",
       "      <th>6</th>\n",
       "      <td>5</td>\n",
       "      <td>529</td>\n",
       "      <td>5_ites_cheek_kidding_yep</td>\n",
       "    </tr>\n",
       "    <tr>\n",
       "      <th>7</th>\n",
       "      <td>6</td>\n",
       "      <td>489</td>\n",
       "      <td>6_israel_israeli_jews_arab</td>\n",
       "    </tr>\n",
       "    <tr>\n",
       "      <th>8</th>\n",
       "      <td>7</td>\n",
       "      <td>445</td>\n",
       "      <td>7_fbi_batf_fire_koresh</td>\n",
       "    </tr>\n",
       "    <tr>\n",
       "      <th>9</th>\n",
       "      <td>8</td>\n",
       "      <td>400</td>\n",
       "      <td>8_patients_medical_disease_doctor</td>\n",
       "    </tr>\n",
       "  </tbody>\n",
       "</table>\n",
       "</div>\n",
       "      <button class=\"colab-df-convert\" onclick=\"convertToInteractive('df-dc777a7a-ec2b-4513-9c34-4d82fed782e7')\"\n",
       "              title=\"Convert this dataframe to an interactive table.\"\n",
       "              style=\"display:none;\">\n",
       "        \n",
       "  <svg xmlns=\"http://www.w3.org/2000/svg\" height=\"24px\"viewBox=\"0 0 24 24\"\n",
       "       width=\"24px\">\n",
       "    <path d=\"M0 0h24v24H0V0z\" fill=\"none\"/>\n",
       "    <path d=\"M18.56 5.44l.94 2.06.94-2.06 2.06-.94-2.06-.94-.94-2.06-.94 2.06-2.06.94zm-11 1L8.5 8.5l.94-2.06 2.06-.94-2.06-.94L8.5 2.5l-.94 2.06-2.06.94zm10 10l.94 2.06.94-2.06 2.06-.94-2.06-.94-.94-2.06-.94 2.06-2.06.94z\"/><path d=\"M17.41 7.96l-1.37-1.37c-.4-.4-.92-.59-1.43-.59-.52 0-1.04.2-1.43.59L10.3 9.45l-7.72 7.72c-.78.78-.78 2.05 0 2.83L4 21.41c.39.39.9.59 1.41.59.51 0 1.02-.2 1.41-.59l7.78-7.78 2.81-2.81c.8-.78.8-2.07 0-2.86zM5.41 20L4 18.59l7.72-7.72 1.47 1.35L5.41 20z\"/>\n",
       "  </svg>\n",
       "      </button>\n",
       "      \n",
       "  <style>\n",
       "    .colab-df-container {\n",
       "      display:flex;\n",
       "      flex-wrap:wrap;\n",
       "      gap: 12px;\n",
       "    }\n",
       "\n",
       "    .colab-df-convert {\n",
       "      background-color: #E8F0FE;\n",
       "      border: none;\n",
       "      border-radius: 50%;\n",
       "      cursor: pointer;\n",
       "      display: none;\n",
       "      fill: #1967D2;\n",
       "      height: 32px;\n",
       "      padding: 0 0 0 0;\n",
       "      width: 32px;\n",
       "    }\n",
       "\n",
       "    .colab-df-convert:hover {\n",
       "      background-color: #E2EBFA;\n",
       "      box-shadow: 0px 1px 2px rgba(60, 64, 67, 0.3), 0px 1px 3px 1px rgba(60, 64, 67, 0.15);\n",
       "      fill: #174EA6;\n",
       "    }\n",
       "\n",
       "    [theme=dark] .colab-df-convert {\n",
       "      background-color: #3B4455;\n",
       "      fill: #D2E3FC;\n",
       "    }\n",
       "\n",
       "    [theme=dark] .colab-df-convert:hover {\n",
       "      background-color: #434B5C;\n",
       "      box-shadow: 0px 1px 3px 1px rgba(0, 0, 0, 0.15);\n",
       "      filter: drop-shadow(0px 1px 2px rgba(0, 0, 0, 0.3));\n",
       "      fill: #FFFFFF;\n",
       "    }\n",
       "  </style>\n",
       "\n",
       "      <script>\n",
       "        const buttonEl =\n",
       "          document.querySelector('#df-dc777a7a-ec2b-4513-9c34-4d82fed782e7 button.colab-df-convert');\n",
       "        buttonEl.style.display =\n",
       "          google.colab.kernel.accessAllowed ? 'block' : 'none';\n",
       "\n",
       "        async function convertToInteractive(key) {\n",
       "          const element = document.querySelector('#df-dc777a7a-ec2b-4513-9c34-4d82fed782e7');\n",
       "          const dataTable =\n",
       "            await google.colab.kernel.invokeFunction('convertToInteractive',\n",
       "                                                     [key], {});\n",
       "          if (!dataTable) return;\n",
       "\n",
       "          const docLinkHtml = 'Like what you see? Visit the ' +\n",
       "            '<a target=\"_blank\" href=https://colab.research.google.com/notebooks/data_table.ipynb>data table notebook</a>'\n",
       "            + ' to learn more about interactive tables.';\n",
       "          element.innerHTML = '';\n",
       "          dataTable['output_type'] = 'display_data';\n",
       "          await google.colab.output.renderOutput(dataTable, element);\n",
       "          const docLink = document.createElement('div');\n",
       "          docLink.innerHTML = docLinkHtml;\n",
       "          element.appendChild(docLink);\n",
       "        }\n",
       "      </script>\n",
       "    </div>\n",
       "  </div>\n",
       "  "
      ],
      "text/plain": [
       "   Topic  Count                               Name\n",
       "0     -1   5445                   -1_the_of_to_and\n",
       "1      0   1815               0_game_team_he_games\n",
       "2      1    875       1_window_server_motif_widget\n",
       "3      2    861       2_image_jpeg_images_graphics\n",
       "4      3    593      3_key_clipper_chip_encryption\n",
       "5      4    550           4_windows_dos_file_files\n",
       "6      5    529           5_ites_cheek_kidding_yep\n",
       "7      6    489         6_israel_israeli_jews_arab\n",
       "8      7    445             7_fbi_batf_fire_koresh\n",
       "9      8    400  8_patients_medical_disease_doctor"
      ]
     },
     "execution_count": 8,
     "metadata": {},
     "output_type": "execute_result"
    }
   ],
   "source": [
    "topic_model.get_topic_info().head(10)"
   ]
  },
  {
   "cell_type": "markdown",
   "metadata": {
    "id": "q43S0mpbnyPX"
   },
   "source": [
    "Finally, we can again extract the topics per class to see if our semi-supervised approach had some effect:"
   ]
  },
  {
   "cell_type": "code",
   "execution_count": null,
   "metadata": {
    "colab": {
     "base_uri": "https://localhost:8080/",
     "height": 917
    },
    "id": "JWuZTVAQmC80",
    "outputId": "d9262f38-d598-4810-dc5a-2a5f3d607038"
   },
   "outputs": [
    {
     "data": {
      "text/html": [
       "<html>\n",
       "<head><meta charset=\"utf-8\" /></head>\n",
       "<body>\n",
       "    <div>            <script src=\"https://cdnjs.cloudflare.com/ajax/libs/mathjax/2.7.5/MathJax.js?config=TeX-AMS-MML_SVG\"></script><script type=\"text/javascript\">if (window.MathJax) {MathJax.Hub.Config({SVG: {font: \"STIX-Web\"}});}</script>                <script type=\"text/javascript\">window.PlotlyConfig = {MathJaxConfig: 'local'};</script>\n",
       "        <script src=\"https://cdn.plot.ly/plotly-2.8.3.min.js\"></script>                <div id=\"ab98e549-5c68-47a1-ab6d-709c206c45ab\" class=\"plotly-graph-div\" style=\"height:900px; width:900px;\"></div>            <script type=\"text/javascript\">                                    window.PLOTLYENV=window.PLOTLYENV || {};                                    if (document.getElementById(\"ab98e549-5c68-47a1-ab6d-709c206c45ab\")) {                    Plotly.newPlot(                        \"ab98e549-5c68-47a1-ab6d-709c206c45ab\",                        [{\"hoverinfo\":\"text\",\"hovertext\":[\"<b>Topic 0</b><br>Words: jets, phill, ratings, he, addresss\",\"<b>Topic 0</b><br>Words: soccer, conference, philcmacseemcgillca, chicago, 45th\",\"<b>Topic 0</b><br>Words: game, he, team, games, year\",\"<b>Topic 0</b><br>Words: pureesageccjcs, jcssageccpurdueedu, stalnaker, oooo, ernest\",\"<b>Topic 0</b><br>Words: game, team, hockey, games, 25\",\"<b>Topic 0</b><br>Words: ticket, tickets, airline, northwest, airlines\",\"<b>Topic 0</b><br>Words: sumpreme, superflous, adventurism, c5px3nkw0murdochaccvirginiaedu, foriegnpolicy\",\"<b>Topic 0</b><br>Words: quinea, papua, translation, buying, seriously\",\"<b>Topic 0</b><br>Words: diversity, families, triassic, extinctions, colonized\",\"<b>Topic 0</b><br>Words: conner, bill, meet, game, team\",\"<b>Topic 0</b><br>Words: sf, buffs, flynn, films, fans\",\"<b>Topic 0</b><br>Words: horizon, hoffer, event, finite, mentions\",\"<b>Topic 0</b><br>Words: prisoners, sections, stones, pitchers, recruiter\",\"<b>Topic 0</b><br>Words: sturm, doug, familiar, anyone, with\",\"<b>Topic 0</b><br>Words: dominant, dominance, cross, eye, study\",\"<b>Topic 0</b><br>Words: ticket, v4, v5, yall, reversed\"],\"marker\":{\"color\":\"#E69F00\"},\"name\":\"0_game_team_he_games\",\"orientation\":\"h\",\"visible\":true,\"x\":[7,2,855,1,902,21,7,1,3,1,4,2,3,1,3,2],\"y\":[\"talk.politics.guns\",\"sci.electronics\",\"rec.sport.baseball\",\"comp.sys.mac.hardware\",\"rec.sport.hockey\",\"misc.forsale\",\"rec.motorcycles\",\"comp.sys.ibm.pc.hardware\",\"sci.space\",\"alt.atheism\",\"talk.politics.misc\",\"talk.religion.misc\",\"talk.politics.mideast\",\"soc.religion.christian\",\"sci.med\",\"sci.crypt\"],\"type\":\"bar\"},{\"hoverinfo\":\"text\",\"hovertext\":[\"<b>Topic 1</b><br>Words: xloadimage, giffilename, onroot, fullscreen, xsession\",\"<b>Topic 1</b><br>Words: wd40, surethats, freebies, coprocesser, xt\",\"<b>Topic 1</b><br>Words: icon, colors, dark, editor, colormap\",\"<b>Topic 1</b><br>Words: wyse, toolbox, comms, emulator, kit\",\"<b>Topic 1</b><br>Words: window, server, motif, widget, xterm\",\"<b>Topic 1</b><br>Words: ultrix, steve, running, youre, see\",\"<b>Topic 1</b><br>Words: scand, trinomials, math, 81960, irreducibility\"],\"marker\":{\"color\":\"#56B4E9\"},\"name\":\"1_window_server_motif_widget\",\"orientation\":\"h\",\"visible\":\"legendonly\",\"x\":[1,3,1,1,865,1,3],\"y\":[\"comp.graphics\",\"sci.electronics\",\"comp.os.ms-windows.misc\",\"comp.sys.mac.hardware\",\"comp.windows.x\",\"talk.religion.misc\",\"sci.crypt\"],\"type\":\"bar\"},{\"hoverinfo\":\"text\",\"hovertext\":[\"<b>Topic 2</b><br>Words: yodicet, mexico, herea, cruces, 88003\",\"<b>Topic 2</b><br>Words: image, jpeg, images, graphics, format\",\"<b>Topic 2</b><br>Words: orders, angeben, selfmodifying, cad, program\",\"<b>Topic 2</b><br>Words: seminar, presentations, visualization, virtual, lipman\",\"<b>Topic 2</b><br>Words: uuencoded, woulds, robin, logos, copied\",\"<b>Topic 2</b><br>Words: stuffit, files, system, disk, software\",\"<b>Topic 2</b><br>Words: files, xfig, undergraduate, spline, displaying\",\"<b>Topic 2</b><br>Words: bras, csundh30ursacalvinedu, herepart, begincut, quuncd\",\"<b>Topic 2</b><br>Words: simtel20, msdosann, subscribe, files, nicfunetfi\",\"<b>Topic 2</b><br>Words: bart, stanza, corolla, pastors, childs\",\"<b>Topic 2</b><br>Words: images, ftp, available, data, image\",\"<b>Topic 2</b><br>Words: rivetting, speach, uv, brief, wonderful\",\"<b>Topic 2</b><br>Words: imports, harwards, preachers, windows, slides\",\"<b>Topic 2</b><br>Words: protein, sequence, molecular, biology, genetic\",\"<b>Topic 2</b><br>Words: nonibm, execs, coppy, nitvbbs, source\"],\"marker\":{\"color\":\"#009E73\"},\"name\":\"2_image_jpeg_images_graphics\",\"orientation\":\"h\",\"visible\":\"legendonly\",\"x\":[2,780,12,5,2,5,10,3,2,1,26,1,1,6,5],\"y\":[\"talk.politics.guns\",\"comp.graphics\",\"sci.electronics\",\"comp.os.ms-windows.misc\",\"rec.sport.baseball\",\"comp.sys.mac.hardware\",\"comp.windows.x\",\"rec.motorcycles\",\"comp.sys.ibm.pc.hardware\",\"rec.autos\",\"sci.space\",\"talk.politics.mideast\",\"soc.religion.christian\",\"sci.med\",\"sci.crypt\"],\"type\":\"bar\"},{\"hoverinfo\":\"text\",\"hovertext\":[\"<b>Topic 3</b><br>Words: traceable, money, info, buyback, rewards\",\"<b>Topic 3</b><br>Words: key, 205, nonconnection, address123, highwattage\",\"<b>Topic 3</b><br>Words: heisenberg, berg, mlb, npr, mccarthy\",\"<b>Topic 3</b><br>Words: sequences, soom, ss2, parser, esc\",\"<b>Topic 3</b><br>Words: typos, hooks, greetings, al, clipper\",\"<b>Topic 3</b><br>Words: nys, dmv, bonded, rod, recognized\",\"<b>Topic 3</b><br>Words: protected, mode, viewed, point, os\",\"<b>Topic 3</b><br>Words: prizms, lterature, lloking, lsi, geos\",\"<b>Topic 3</b><br>Words: intelliegence, meiko, lockstickandbarel, hovercraft, mena\",\"<b>Topic 3</b><br>Words: mathew, keys, impropriety, offender, government\",\"<b>Topic 3</b><br>Words: initiative, wiretapping, urge, clintons, film\",\"<b>Topic 3</b><br>Words: kgbatf, cote, right, defending, he\",\"<b>Topic 3</b><br>Words: monitoring, encyrption, tienanmien, balkanmideast, beijing\",\"<b>Topic 3</b><br>Words: ssn, whoa, smoking, foods, eh\",\"<b>Topic 3</b><br>Words: key, clipper, chip, encryption, keys\"],\"marker\":{\"color\":\"#F0E442\"},\"name\":\"3_key_clipper_chip_encryption\",\"orientation\":\"h\",\"visible\":\"legendonly\",\"x\":[5,5,1,2,1,1,1,1,2,2,5,1,1,1,564],\"y\":[\"talk.politics.guns\",\"sci.electronics\",\"rec.sport.baseball\",\"comp.windows.x\",\"misc.forsale\",\"rec.motorcycles\",\"comp.sys.ibm.pc.hardware\",\"rec.autos\",\"sci.space\",\"alt.atheism\",\"talk.politics.misc\",\"talk.religion.misc\",\"talk.politics.mideast\",\"sci.med\",\"sci.crypt\"],\"type\":\"bar\"},{\"hoverinfo\":\"text\",\"hovertext\":[\"<b>Topic 4</b><br>Words: anthonyfmicrosoftcom, 1993apr170252587013microsoftcom, imelda, marcos, marry\",\"<b>Topic 4</b><br>Words: povray, dos5, quicktime, canvas, application\",\"<b>Topic 4</b><br>Words: register, program, exe, registration, remove\",\"<b>Topic 4</b><br>Words: windows, dos, file, files, 31\",\"<b>Topic 4</b><br>Words: watcom, porting, dos, imake, compiler\",\"<b>Topic 4</b><br>Words: dos, windows, dos6, qemm, v31\",\"<b>Topic 4</b><br>Words: emm386exe, linefeeds, timeknowledgeexperience, arthuruwashingt, word55\",\"<b>Topic 4</b><br>Words: nextstep, hyperknowledge, graphical, wonderful, hetrogeneous\",\"<b>Topic 4</b><br>Words: syllogism, lousy, volumes, spent, energy\",\"<b>Topic 4</b><br>Words: dos, util, file, disk, msdos\"],\"marker\":{\"color\":\"#D55E00\"},\"name\":\"4_windows_dos_file_files\",\"orientation\":\"h\",\"visible\":\"legendonly\",\"x\":[1,3,6,523,1,7,3,1,1,4],\"y\":[\"talk.politics.guns\",\"comp.graphics\",\"sci.electronics\",\"comp.os.ms-windows.misc\",\"comp.windows.x\",\"misc.forsale\",\"comp.sys.ibm.pc.hardware\",\"sci.space\",\"alt.atheism\",\"sci.crypt\"],\"type\":\"bar\"},{\"hoverinfo\":\"text\",\"hovertext\":[\"<b>Topic 5</b><br>Words: ites, cheek, kidding, yep, consistently\",\"<b>Topic 5</b><br>Words: ites, cheek, kidding, yep, consistently\",\"<b>Topic 5</b><br>Words: ites, cheek, kidding, yep, consistently\",\"<b>Topic 5</b><br>Words: ites, cheek, kidding, yep, consistently\",\"<b>Topic 5</b><br>Words: consistently, why, ites, cheek, kidding\",\"<b>Topic 5</b><br>Words: each, ites, cheek, kidding, yep\",\"<b>Topic 5</b><br>Words: ites, cheek, kidding, yep, consistently\",\"<b>Topic 5</b><br>Words: ites, cheek, kidding, yep, consistently\",\"<b>Topic 5</b><br>Words: ken, ites, cheek, kidding, yep\",\"<b>Topic 5</b><br>Words: yep, huh, ignore, forget, lets\",\"<b>Topic 5</b><br>Words: ites, cheek, kidding, yep, consistently\",\"<b>Topic 5</b><br>Words: ites, cheek, kidding, yep, consistently\",\"<b>Topic 5</b><br>Words: ites, cheek, kidding, yep, consistently\",\"<b>Topic 5</b><br>Words: ites, cheek, kidding, yep, consistently\",\"<b>Topic 5</b><br>Words: ites, cheek, kidding, yep, consistently\",\"<b>Topic 5</b><br>Words: ites, cheek, kidding, yep, consistently\",\"<b>Topic 5</b><br>Words: kidding, just, ites, cheek, yep\",\"<b>Topic 5</b><br>Words: ites, cheek, kidding, yep, consistently\",\"<b>Topic 5</b><br>Words: very, good, ites, cheek, kidding\",\"<b>Topic 5</b><br>Words: ites, cheek, kidding, yep, consistently\"],\"marker\":{\"color\":\"#0072B2\"},\"name\":\"5_ites_cheek_kidding_yep\",\"orientation\":\"h\",\"visible\":\"legendonly\",\"x\":[24,18,26,38,39,35,24,6,17,31,18,55,32,20,19,23,22,22,31,29],\"y\":[\"talk.politics.guns\",\"comp.graphics\",\"sci.electronics\",\"comp.os.ms-windows.misc\",\"rec.sport.baseball\",\"comp.sys.mac.hardware\",\"rec.sport.hockey\",\"comp.windows.x\",\"misc.forsale\",\"rec.motorcycles\",\"comp.sys.ibm.pc.hardware\",\"rec.autos\",\"sci.space\",\"alt.atheism\",\"talk.politics.misc\",\"talk.religion.misc\",\"talk.politics.mideast\",\"soc.religion.christian\",\"sci.med\",\"sci.crypt\"],\"type\":\"bar\"},{\"hoverinfo\":\"text\",\"hovertext\":[\"<b>Topic 6</b><br>Words: nazi, dodd, law, hitler, swiss\",\"<b>Topic 6</b><br>Words: intermediate, sockets, skip, bandwidth, hitler\",\"<b>Topic 6</b><br>Words: 617, 2671700, 2621915, staub, jewish\",\"<b>Topic 6</b><br>Words: skirmish, wasting, bandwidth, occurred, referring\",\"<b>Topic 6</b><br>Words: jews, antisemitism, israel, jewish, sightseeing\",\"<b>Topic 6</b><br>Words: hitler, antidefamation, nazis, israel, limbaugh\",\"<b>Topic 6</b><br>Words: tyre, peace, jews, israel, israeli\",\"<b>Topic 6</b><br>Words: israel, israeli, jews, arab, jewish\",\"<b>Topic 6</b><br>Words: jewish, speak, proselytism, jews, because\"],\"marker\":{\"color\":\"#CC79A7\"},\"name\":\"6_israel_israeli_jews_arab\",\"orientation\":\"h\",\"visible\":\"legendonly\",\"x\":[10,1,3,1,17,7,13,433,4],\"y\":[\"talk.politics.guns\",\"sci.electronics\",\"rec.sport.baseball\",\"rec.sport.hockey\",\"alt.atheism\",\"talk.politics.misc\",\"talk.religion.misc\",\"talk.politics.mideast\",\"soc.religion.christian\"],\"type\":\"bar\"},{\"hoverinfo\":\"text\",\"hovertext\":[\"<b>Topic 7</b><br>Words: fbi, fire, batf, koresh, compound\",\"<b>Topic 7</b><br>Words: butane, flammable, wd40, nontoxic, definately\",\"<b>Topic 7</b><br>Words: doom, catch, splitsville, kreme, department\",\"<b>Topic 7</b><br>Words: batf, kindling, warrant, concussion, compound\",\"<b>Topic 7</b><br>Words: gun, projectile, chamber, barrel, gas\",\"<b>Topic 7</b><br>Words: koresh, wp50, sequel, david, finished\",\"<b>Topic 7</b><br>Words: batf, fbi, koresh, fire, compound\",\"<b>Topic 7</b><br>Words: koresh, fbi, fire, batf, children\",\"<b>Topic 7</b><br>Words: adl, bullock, gerard, fbi, francisco\",\"<b>Topic 7</b><br>Words: sda, koresh, shephards, compound, rod\",\"<b>Topic 7</b><br>Words: waco, tx, cs, caprette, 9269\",\"<b>Topic 7</b><br>Words: waco, fbi, tactic, xd, massacre\"],\"marker\":{\"color\":\"#E69F00\"},\"name\":\"7_fbi_batf_fire_koresh\",\"orientation\":\"h\",\"visible\":\"legendonly\",\"x\":[275,4,3,2,2,7,80,55,4,3,4,6],\"y\":[\"talk.politics.guns\",\"sci.electronics\",\"rec.motorcycles\",\"rec.autos\",\"sci.space\",\"alt.atheism\",\"talk.politics.misc\",\"talk.religion.misc\",\"talk.politics.mideast\",\"soc.religion.christian\",\"sci.med\",\"sci.crypt\"],\"type\":\"bar\"},{\"hoverinfo\":\"text\",\"hovertext\":[\"<b>Topic 8</b><br>Words: aftershave, nz, readings, positive, giving\",\"<b>Topic 8</b><br>Words: nonsudafed, medicines, cold, 12, like\",\"<b>Topic 8</b><br>Words: bloodworth, reshke, bev, strapped, milt\",\"<b>Topic 8</b><br>Words: rd, providers, freemarket, dialysis, patients\",\"<b>Topic 8</b><br>Words: lsd, defects, birth, flatout, singular\",\"<b>Topic 8</b><br>Words: mengele, austrian, josh, fellow, dr\",\"<b>Topic 8</b><br>Words: tranfusion, doctors, conceivably, fallible, necessary\",\"<b>Topic 8</b><br>Words: patients, medical, disease, doctor, pain\"],\"marker\":{\"color\":\"#56B4E9\"},\"name\":\"8_patients_medical_disease_doctor\",\"orientation\":\"h\",\"visible\":\"legendonly\",\"x\":[1,1,1,5,1,1,1,389],\"y\":[\"sci.electronics\",\"rec.motorcycles\",\"sci.space\",\"talk.politics.misc\",\"talk.religion.misc\",\"talk.politics.mideast\",\"soc.religion.christian\",\"sci.med\"],\"type\":\"bar\"},{\"hoverinfo\":\"text\",\"hovertext\":[\"<b>Topic 9</b><br>Words: gun, guns, firearms, militia, amendment\",\"<b>Topic 9</b><br>Words: nanaimo, columbia, tom, british, fax7558742\",\"<b>Topic 9</b><br>Words: gun, zuki, statemunicipality, scabbard, luxosedan\",\"<b>Topic 9</b><br>Words: glove, gun, carrying, car, taunting\",\"<b>Topic 9</b><br>Words: iroquois, albany, union, founding, grinde\",\"<b>Topic 9</b><br>Words: gun, government, constitution, crime, power\",\"<b>Topic 9</b><br>Words: guns, 357, firearms, gun, commie\",\"<b>Topic 9</b><br>Words: benson, amendment, nay, threatens, talkpoliticsguns\",\"<b>Topic 9</b><br>Words: vests, bulletproof, promote, usage, safe\",\"<b>Topic 9</b><br>Words: amendment, arms, bear, militia, right\"],\"marker\":{\"color\":\"#009E73\"},\"name\":\"9_gun_guns_firearms_amendment\",\"orientation\":\"h\",\"visible\":\"legendonly\",\"x\":[292,1,6,10,1,13,11,1,1,17],\"y\":[\"talk.politics.guns\",\"sci.electronics\",\"rec.motorcycles\",\"rec.autos\",\"alt.atheism\",\"talk.politics.misc\",\"talk.religion.misc\",\"talk.politics.mideast\",\"soc.religion.christian\",\"sci.crypt\"],\"type\":\"bar\"}],                        {\"template\":{\"data\":{\"barpolar\":[{\"marker\":{\"line\":{\"color\":\"white\",\"width\":0.5},\"pattern\":{\"fillmode\":\"overlay\",\"size\":10,\"solidity\":0.2}},\"type\":\"barpolar\"}],\"bar\":[{\"error_x\":{\"color\":\"rgb(36,36,36)\"},\"error_y\":{\"color\":\"rgb(36,36,36)\"},\"marker\":{\"line\":{\"color\":\"white\",\"width\":0.5},\"pattern\":{\"fillmode\":\"overlay\",\"size\":10,\"solidity\":0.2}},\"type\":\"bar\"}],\"carpet\":[{\"aaxis\":{\"endlinecolor\":\"rgb(36,36,36)\",\"gridcolor\":\"white\",\"linecolor\":\"white\",\"minorgridcolor\":\"white\",\"startlinecolor\":\"rgb(36,36,36)\"},\"baxis\":{\"endlinecolor\":\"rgb(36,36,36)\",\"gridcolor\":\"white\",\"linecolor\":\"white\",\"minorgridcolor\":\"white\",\"startlinecolor\":\"rgb(36,36,36)\"},\"type\":\"carpet\"}],\"choropleth\":[{\"colorbar\":{\"outlinewidth\":1,\"tickcolor\":\"rgb(36,36,36)\",\"ticks\":\"outside\"},\"type\":\"choropleth\"}],\"contourcarpet\":[{\"colorbar\":{\"outlinewidth\":1,\"tickcolor\":\"rgb(36,36,36)\",\"ticks\":\"outside\"},\"type\":\"contourcarpet\"}],\"contour\":[{\"colorbar\":{\"outlinewidth\":1,\"tickcolor\":\"rgb(36,36,36)\",\"ticks\":\"outside\"},\"colorscale\":[[0.0,\"#440154\"],[0.1111111111111111,\"#482878\"],[0.2222222222222222,\"#3e4989\"],[0.3333333333333333,\"#31688e\"],[0.4444444444444444,\"#26828e\"],[0.5555555555555556,\"#1f9e89\"],[0.6666666666666666,\"#35b779\"],[0.7777777777777778,\"#6ece58\"],[0.8888888888888888,\"#b5de2b\"],[1.0,\"#fde725\"]],\"type\":\"contour\"}],\"heatmapgl\":[{\"colorbar\":{\"outlinewidth\":1,\"tickcolor\":\"rgb(36,36,36)\",\"ticks\":\"outside\"},\"colorscale\":[[0.0,\"#440154\"],[0.1111111111111111,\"#482878\"],[0.2222222222222222,\"#3e4989\"],[0.3333333333333333,\"#31688e\"],[0.4444444444444444,\"#26828e\"],[0.5555555555555556,\"#1f9e89\"],[0.6666666666666666,\"#35b779\"],[0.7777777777777778,\"#6ece58\"],[0.8888888888888888,\"#b5de2b\"],[1.0,\"#fde725\"]],\"type\":\"heatmapgl\"}],\"heatmap\":[{\"colorbar\":{\"outlinewidth\":1,\"tickcolor\":\"rgb(36,36,36)\",\"ticks\":\"outside\"},\"colorscale\":[[0.0,\"#440154\"],[0.1111111111111111,\"#482878\"],[0.2222222222222222,\"#3e4989\"],[0.3333333333333333,\"#31688e\"],[0.4444444444444444,\"#26828e\"],[0.5555555555555556,\"#1f9e89\"],[0.6666666666666666,\"#35b779\"],[0.7777777777777778,\"#6ece58\"],[0.8888888888888888,\"#b5de2b\"],[1.0,\"#fde725\"]],\"type\":\"heatmap\"}],\"histogram2dcontour\":[{\"colorbar\":{\"outlinewidth\":1,\"tickcolor\":\"rgb(36,36,36)\",\"ticks\":\"outside\"},\"colorscale\":[[0.0,\"#440154\"],[0.1111111111111111,\"#482878\"],[0.2222222222222222,\"#3e4989\"],[0.3333333333333333,\"#31688e\"],[0.4444444444444444,\"#26828e\"],[0.5555555555555556,\"#1f9e89\"],[0.6666666666666666,\"#35b779\"],[0.7777777777777778,\"#6ece58\"],[0.8888888888888888,\"#b5de2b\"],[1.0,\"#fde725\"]],\"type\":\"histogram2dcontour\"}],\"histogram2d\":[{\"colorbar\":{\"outlinewidth\":1,\"tickcolor\":\"rgb(36,36,36)\",\"ticks\":\"outside\"},\"colorscale\":[[0.0,\"#440154\"],[0.1111111111111111,\"#482878\"],[0.2222222222222222,\"#3e4989\"],[0.3333333333333333,\"#31688e\"],[0.4444444444444444,\"#26828e\"],[0.5555555555555556,\"#1f9e89\"],[0.6666666666666666,\"#35b779\"],[0.7777777777777778,\"#6ece58\"],[0.8888888888888888,\"#b5de2b\"],[1.0,\"#fde725\"]],\"type\":\"histogram2d\"}],\"histogram\":[{\"marker\":{\"line\":{\"color\":\"white\",\"width\":0.6}},\"type\":\"histogram\"}],\"mesh3d\":[{\"colorbar\":{\"outlinewidth\":1,\"tickcolor\":\"rgb(36,36,36)\",\"ticks\":\"outside\"},\"type\":\"mesh3d\"}],\"parcoords\":[{\"line\":{\"colorbar\":{\"outlinewidth\":1,\"tickcolor\":\"rgb(36,36,36)\",\"ticks\":\"outside\"}},\"type\":\"parcoords\"}],\"pie\":[{\"automargin\":true,\"type\":\"pie\"}],\"scatter3d\":[{\"line\":{\"colorbar\":{\"outlinewidth\":1,\"tickcolor\":\"rgb(36,36,36)\",\"ticks\":\"outside\"}},\"marker\":{\"colorbar\":{\"outlinewidth\":1,\"tickcolor\":\"rgb(36,36,36)\",\"ticks\":\"outside\"}},\"type\":\"scatter3d\"}],\"scattercarpet\":[{\"marker\":{\"colorbar\":{\"outlinewidth\":1,\"tickcolor\":\"rgb(36,36,36)\",\"ticks\":\"outside\"}},\"type\":\"scattercarpet\"}],\"scattergeo\":[{\"marker\":{\"colorbar\":{\"outlinewidth\":1,\"tickcolor\":\"rgb(36,36,36)\",\"ticks\":\"outside\"}},\"type\":\"scattergeo\"}],\"scattergl\":[{\"marker\":{\"colorbar\":{\"outlinewidth\":1,\"tickcolor\":\"rgb(36,36,36)\",\"ticks\":\"outside\"}},\"type\":\"scattergl\"}],\"scattermapbox\":[{\"marker\":{\"colorbar\":{\"outlinewidth\":1,\"tickcolor\":\"rgb(36,36,36)\",\"ticks\":\"outside\"}},\"type\":\"scattermapbox\"}],\"scatterpolargl\":[{\"marker\":{\"colorbar\":{\"outlinewidth\":1,\"tickcolor\":\"rgb(36,36,36)\",\"ticks\":\"outside\"}},\"type\":\"scatterpolargl\"}],\"scatterpolar\":[{\"marker\":{\"colorbar\":{\"outlinewidth\":1,\"tickcolor\":\"rgb(36,36,36)\",\"ticks\":\"outside\"}},\"type\":\"scatterpolar\"}],\"scatter\":[{\"marker\":{\"colorbar\":{\"outlinewidth\":1,\"tickcolor\":\"rgb(36,36,36)\",\"ticks\":\"outside\"}},\"type\":\"scatter\"}],\"scatterternary\":[{\"marker\":{\"colorbar\":{\"outlinewidth\":1,\"tickcolor\":\"rgb(36,36,36)\",\"ticks\":\"outside\"}},\"type\":\"scatterternary\"}],\"surface\":[{\"colorbar\":{\"outlinewidth\":1,\"tickcolor\":\"rgb(36,36,36)\",\"ticks\":\"outside\"},\"colorscale\":[[0.0,\"#440154\"],[0.1111111111111111,\"#482878\"],[0.2222222222222222,\"#3e4989\"],[0.3333333333333333,\"#31688e\"],[0.4444444444444444,\"#26828e\"],[0.5555555555555556,\"#1f9e89\"],[0.6666666666666666,\"#35b779\"],[0.7777777777777778,\"#6ece58\"],[0.8888888888888888,\"#b5de2b\"],[1.0,\"#fde725\"]],\"type\":\"surface\"}],\"table\":[{\"cells\":{\"fill\":{\"color\":\"rgb(237,237,237)\"},\"line\":{\"color\":\"white\"}},\"header\":{\"fill\":{\"color\":\"rgb(217,217,217)\"},\"line\":{\"color\":\"white\"}},\"type\":\"table\"}]},\"layout\":{\"annotationdefaults\":{\"arrowhead\":0,\"arrowwidth\":1},\"autotypenumbers\":\"strict\",\"coloraxis\":{\"colorbar\":{\"outlinewidth\":1,\"tickcolor\":\"rgb(36,36,36)\",\"ticks\":\"outside\"}},\"colorscale\":{\"diverging\":[[0.0,\"rgb(103,0,31)\"],[0.1,\"rgb(178,24,43)\"],[0.2,\"rgb(214,96,77)\"],[0.3,\"rgb(244,165,130)\"],[0.4,\"rgb(253,219,199)\"],[0.5,\"rgb(247,247,247)\"],[0.6,\"rgb(209,229,240)\"],[0.7,\"rgb(146,197,222)\"],[0.8,\"rgb(67,147,195)\"],[0.9,\"rgb(33,102,172)\"],[1.0,\"rgb(5,48,97)\"]],\"sequential\":[[0.0,\"#440154\"],[0.1111111111111111,\"#482878\"],[0.2222222222222222,\"#3e4989\"],[0.3333333333333333,\"#31688e\"],[0.4444444444444444,\"#26828e\"],[0.5555555555555556,\"#1f9e89\"],[0.6666666666666666,\"#35b779\"],[0.7777777777777778,\"#6ece58\"],[0.8888888888888888,\"#b5de2b\"],[1.0,\"#fde725\"]],\"sequentialminus\":[[0.0,\"#440154\"],[0.1111111111111111,\"#482878\"],[0.2222222222222222,\"#3e4989\"],[0.3333333333333333,\"#31688e\"],[0.4444444444444444,\"#26828e\"],[0.5555555555555556,\"#1f9e89\"],[0.6666666666666666,\"#35b779\"],[0.7777777777777778,\"#6ece58\"],[0.8888888888888888,\"#b5de2b\"],[1.0,\"#fde725\"]]},\"colorway\":[\"#1F77B4\",\"#FF7F0E\",\"#2CA02C\",\"#D62728\",\"#9467BD\",\"#8C564B\",\"#E377C2\",\"#7F7F7F\",\"#BCBD22\",\"#17BECF\"],\"font\":{\"color\":\"rgb(36,36,36)\"},\"geo\":{\"bgcolor\":\"white\",\"lakecolor\":\"white\",\"landcolor\":\"white\",\"showlakes\":true,\"showland\":true,\"subunitcolor\":\"white\"},\"hoverlabel\":{\"align\":\"left\"},\"hovermode\":\"closest\",\"mapbox\":{\"style\":\"light\"},\"paper_bgcolor\":\"white\",\"plot_bgcolor\":\"white\",\"polar\":{\"angularaxis\":{\"gridcolor\":\"rgb(232,232,232)\",\"linecolor\":\"rgb(36,36,36)\",\"showgrid\":false,\"showline\":true,\"ticks\":\"outside\"},\"bgcolor\":\"white\",\"radialaxis\":{\"gridcolor\":\"rgb(232,232,232)\",\"linecolor\":\"rgb(36,36,36)\",\"showgrid\":false,\"showline\":true,\"ticks\":\"outside\"}},\"scene\":{\"xaxis\":{\"backgroundcolor\":\"white\",\"gridcolor\":\"rgb(232,232,232)\",\"gridwidth\":2,\"linecolor\":\"rgb(36,36,36)\",\"showbackground\":true,\"showgrid\":false,\"showline\":true,\"ticks\":\"outside\",\"zeroline\":false,\"zerolinecolor\":\"rgb(36,36,36)\"},\"yaxis\":{\"backgroundcolor\":\"white\",\"gridcolor\":\"rgb(232,232,232)\",\"gridwidth\":2,\"linecolor\":\"rgb(36,36,36)\",\"showbackground\":true,\"showgrid\":false,\"showline\":true,\"ticks\":\"outside\",\"zeroline\":false,\"zerolinecolor\":\"rgb(36,36,36)\"},\"zaxis\":{\"backgroundcolor\":\"white\",\"gridcolor\":\"rgb(232,232,232)\",\"gridwidth\":2,\"linecolor\":\"rgb(36,36,36)\",\"showbackground\":true,\"showgrid\":false,\"showline\":true,\"ticks\":\"outside\",\"zeroline\":false,\"zerolinecolor\":\"rgb(36,36,36)\"}},\"shapedefaults\":{\"fillcolor\":\"black\",\"line\":{\"width\":0},\"opacity\":0.3},\"ternary\":{\"aaxis\":{\"gridcolor\":\"rgb(232,232,232)\",\"linecolor\":\"rgb(36,36,36)\",\"showgrid\":false,\"showline\":true,\"ticks\":\"outside\"},\"baxis\":{\"gridcolor\":\"rgb(232,232,232)\",\"linecolor\":\"rgb(36,36,36)\",\"showgrid\":false,\"showline\":true,\"ticks\":\"outside\"},\"bgcolor\":\"white\",\"caxis\":{\"gridcolor\":\"rgb(232,232,232)\",\"linecolor\":\"rgb(36,36,36)\",\"showgrid\":false,\"showline\":true,\"ticks\":\"outside\"}},\"title\":{\"x\":0.05},\"xaxis\":{\"automargin\":true,\"gridcolor\":\"rgb(232,232,232)\",\"linecolor\":\"rgb(36,36,36)\",\"showgrid\":false,\"showline\":true,\"ticks\":\"outside\",\"title\":{\"standoff\":15},\"zeroline\":false,\"zerolinecolor\":\"rgb(36,36,36)\"},\"yaxis\":{\"automargin\":true,\"gridcolor\":\"rgb(232,232,232)\",\"linecolor\":\"rgb(36,36,36)\",\"showgrid\":false,\"showline\":true,\"ticks\":\"outside\",\"title\":{\"standoff\":15},\"zeroline\":false,\"zerolinecolor\":\"rgb(36,36,36)\"}}},\"xaxis\":{\"showgrid\":true,\"title\":{\"text\":\"Frequency\"}},\"yaxis\":{\"showgrid\":true,\"title\":{\"text\":\"Class\"}},\"title\":{\"font\":{\"size\":22,\"color\":\"Black\"},\"text\":\"<b>Topics per Class\",\"y\":0.95,\"x\":0.4,\"xanchor\":\"center\",\"yanchor\":\"top\"},\"hoverlabel\":{\"font\":{\"size\":16,\"family\":\"Rockwell\"},\"bgcolor\":\"white\"},\"width\":900,\"height\":900,\"legend\":{\"title\":{\"text\":\"<b>Global Topic Representation\"}}},                        {\"responsive\": true}                    ).then(function(){\n",
       "                            \n",
       "var gd = document.getElementById('ab98e549-5c68-47a1-ab6d-709c206c45ab');\n",
       "var x = new MutationObserver(function (mutations, observer) {{\n",
       "        var display = window.getComputedStyle(gd).display;\n",
       "        if (!display || display === 'none') {{\n",
       "            console.log([gd, 'removed!']);\n",
       "            Plotly.purge(gd);\n",
       "            observer.disconnect();\n",
       "        }}\n",
       "}});\n",
       "\n",
       "// Listen for the removal of the full notebook cells\n",
       "var notebookContainer = gd.closest('#notebook-container');\n",
       "if (notebookContainer) {{\n",
       "    x.observe(notebookContainer, {childList: true});\n",
       "}}\n",
       "\n",
       "// Listen for the clearing of the current output cell\n",
       "var outputEl = gd.closest('.output');\n",
       "if (outputEl) {{\n",
       "    x.observe(outputEl, {childList: true});\n",
       "}}\n",
       "\n",
       "                        })                };                            </script>        </div>\n",
       "</body>\n",
       "</html>"
      ]
     },
     "metadata": {},
     "output_type": "display_data"
    }
   ],
   "source": [
    "topics_per_class = topic_model.topics_per_class(docs, classes=classes)\n",
    "fig_semi_supervised = topic_model.visualize_topics_per_class(topics_per_class, top_n_topics=10, width=900)\n",
    "fig_semi_supervised"
   ]
  },
  {
   "cell_type": "markdown",
   "metadata": {
    "id": "8Cyz71GmolRU"
   },
   "source": [
    "We can clearly see that many more topics about computers were created and that the seperation between those topics are solid. This indicates that even if you do not have all the labels, you can definitely improve the model!\n",
    "\n",
    "However, there are still some clusters that could be improved with the labels that we have. "
   ]
  },
  {
   "cell_type": "markdown",
   "metadata": {
    "id": "SIvqVHkgdCO3"
   },
   "source": [
    "## Supervised"
   ]
  },
  {
   "cell_type": "markdown",
   "metadata": {
    "id": "Ovx5U4IeqmRz"
   },
   "source": [
    "Finally, we are going to be using all labels. These labels help BERTopic understand where most clusters can be found. However, this does not mean that it will only find the 20 clusters that we have defined. If there are sub-clusters to be found, then there is a good chance BERTopic will find them! "
   ]
  },
  {
   "cell_type": "code",
   "execution_count": null,
   "metadata": {
    "colab": {
     "base_uri": "https://localhost:8080/",
     "height": 101,
     "referenced_widgets": [
      "4f9b8665c61649e2aa14c8e979a57a39",
      "ca959ca910ce4932a889fe6391ff9889",
      "13123446f2094219a7072426df978db3",
      "77fd388533eb4290b904c5ef3ae1303c",
      "5143207e999f4e49857b9128408d9548",
      "bbf5c25b33cc487fa0f8717623a0f831",
      "285118713d794b7ab5038d17bc3f0858",
      "4e047bfe50f94f48b7f61504d405aed1",
      "07cd2274e5d142c68ba7ff98c1689abd",
      "56ce6ce734da454889c8f5d1047792cc",
      "dd755318eb334ccbb532f537122b7e7c"
     ]
    },
    "id": "s3_NfOtsc-mc",
    "outputId": "ddb19626-2f26-423b-91b8-99f24085c603"
   },
   "outputs": [
    {
     "data": {
      "application/vnd.jupyter.widget-view+json": {
       "model_id": "4f9b8665c61649e2aa14c8e979a57a39",
       "version_major": 2,
       "version_minor": 0
      },
      "text/plain": [
       "Batches:   0%|          | 0/589 [00:00<?, ?it/s]"
      ]
     },
     "metadata": {},
     "output_type": "display_data"
    },
    {
     "name": "stderr",
     "output_type": "stream",
     "text": [
      "2022-09-11 08:16:00,180 - BERTopic - Transformed documents to Embeddings\n",
      "2022-09-11 08:16:22,467 - BERTopic - Reduced dimensionality\n",
      "2022-09-11 08:16:23,475 - BERTopic - Clustered reduced embeddings\n"
     ]
    }
   ],
   "source": [
    "topic_model = BERTopic(verbose=True)\n",
    "topics, _ = topic_model.fit_transform(docs, y=targets)"
   ]
  },
  {
   "cell_type": "code",
   "execution_count": null,
   "metadata": {
    "colab": {
     "base_uri": "https://localhost:8080/",
     "height": 363
    },
    "id": "J05ypKzhc-qG",
    "outputId": "aa264a84-1dc8-4c4e-91ce-12e01f911d2f"
   },
   "outputs": [
    {
     "data": {
      "text/html": [
       "\n",
       "  <div id=\"df-e116fc12-238c-4615-9cba-310b893a1b5a\">\n",
       "    <div class=\"colab-df-container\">\n",
       "      <div>\n",
       "<style scoped>\n",
       "    .dataframe tbody tr th:only-of-type {\n",
       "        vertical-align: middle;\n",
       "    }\n",
       "\n",
       "    .dataframe tbody tr th {\n",
       "        vertical-align: top;\n",
       "    }\n",
       "\n",
       "    .dataframe thead th {\n",
       "        text-align: right;\n",
       "    }\n",
       "</style>\n",
       "<table border=\"1\" class=\"dataframe\">\n",
       "  <thead>\n",
       "    <tr style=\"text-align: right;\">\n",
       "      <th></th>\n",
       "      <th>Topic</th>\n",
       "      <th>Count</th>\n",
       "      <th>Name</th>\n",
       "    </tr>\n",
       "  </thead>\n",
       "  <tbody>\n",
       "    <tr>\n",
       "      <th>0</th>\n",
       "      <td>-1</td>\n",
       "      <td>3426</td>\n",
       "      <td>-1_to_of_the_and</td>\n",
       "    </tr>\n",
       "    <tr>\n",
       "      <th>1</th>\n",
       "      <td>0</td>\n",
       "      <td>948</td>\n",
       "      <td>0_space_launch_nasa_orbit</td>\n",
       "    </tr>\n",
       "    <tr>\n",
       "      <th>2</th>\n",
       "      <td>1</td>\n",
       "      <td>912</td>\n",
       "      <td>1_car_cars_engine_it</td>\n",
       "    </tr>\n",
       "    <tr>\n",
       "      <th>3</th>\n",
       "      <td>2</td>\n",
       "      <td>906</td>\n",
       "      <td>2_he_game_year_baseball</td>\n",
       "    </tr>\n",
       "    <tr>\n",
       "      <th>4</th>\n",
       "      <td>3</td>\n",
       "      <td>906</td>\n",
       "      <td>3_window_server_motif_widget</td>\n",
       "    </tr>\n",
       "    <tr>\n",
       "      <th>5</th>\n",
       "      <td>4</td>\n",
       "      <td>866</td>\n",
       "      <td>4_mac_apple_drive_monitor</td>\n",
       "    </tr>\n",
       "    <tr>\n",
       "      <th>6</th>\n",
       "      <td>5</td>\n",
       "      <td>844</td>\n",
       "      <td>5_gun_guns_firearms_the</td>\n",
       "    </tr>\n",
       "    <tr>\n",
       "      <th>7</th>\n",
       "      <td>6</td>\n",
       "      <td>788</td>\n",
       "      <td>6_team_game_25_hockey</td>\n",
       "    </tr>\n",
       "    <tr>\n",
       "      <th>8</th>\n",
       "      <td>7</td>\n",
       "      <td>706</td>\n",
       "      <td>7_image_jpeg_images_graphics</td>\n",
       "    </tr>\n",
       "    <tr>\n",
       "      <th>9</th>\n",
       "      <td>8</td>\n",
       "      <td>705</td>\n",
       "      <td>8_key_clipper_encryption_chip</td>\n",
       "    </tr>\n",
       "  </tbody>\n",
       "</table>\n",
       "</div>\n",
       "      <button class=\"colab-df-convert\" onclick=\"convertToInteractive('df-e116fc12-238c-4615-9cba-310b893a1b5a')\"\n",
       "              title=\"Convert this dataframe to an interactive table.\"\n",
       "              style=\"display:none;\">\n",
       "        \n",
       "  <svg xmlns=\"http://www.w3.org/2000/svg\" height=\"24px\"viewBox=\"0 0 24 24\"\n",
       "       width=\"24px\">\n",
       "    <path d=\"M0 0h24v24H0V0z\" fill=\"none\"/>\n",
       "    <path d=\"M18.56 5.44l.94 2.06.94-2.06 2.06-.94-2.06-.94-.94-2.06-.94 2.06-2.06.94zm-11 1L8.5 8.5l.94-2.06 2.06-.94-2.06-.94L8.5 2.5l-.94 2.06-2.06.94zm10 10l.94 2.06.94-2.06 2.06-.94-2.06-.94-.94-2.06-.94 2.06-2.06.94z\"/><path d=\"M17.41 7.96l-1.37-1.37c-.4-.4-.92-.59-1.43-.59-.52 0-1.04.2-1.43.59L10.3 9.45l-7.72 7.72c-.78.78-.78 2.05 0 2.83L4 21.41c.39.39.9.59 1.41.59.51 0 1.02-.2 1.41-.59l7.78-7.78 2.81-2.81c.8-.78.8-2.07 0-2.86zM5.41 20L4 18.59l7.72-7.72 1.47 1.35L5.41 20z\"/>\n",
       "  </svg>\n",
       "      </button>\n",
       "      \n",
       "  <style>\n",
       "    .colab-df-container {\n",
       "      display:flex;\n",
       "      flex-wrap:wrap;\n",
       "      gap: 12px;\n",
       "    }\n",
       "\n",
       "    .colab-df-convert {\n",
       "      background-color: #E8F0FE;\n",
       "      border: none;\n",
       "      border-radius: 50%;\n",
       "      cursor: pointer;\n",
       "      display: none;\n",
       "      fill: #1967D2;\n",
       "      height: 32px;\n",
       "      padding: 0 0 0 0;\n",
       "      width: 32px;\n",
       "    }\n",
       "\n",
       "    .colab-df-convert:hover {\n",
       "      background-color: #E2EBFA;\n",
       "      box-shadow: 0px 1px 2px rgba(60, 64, 67, 0.3), 0px 1px 3px 1px rgba(60, 64, 67, 0.15);\n",
       "      fill: #174EA6;\n",
       "    }\n",
       "\n",
       "    [theme=dark] .colab-df-convert {\n",
       "      background-color: #3B4455;\n",
       "      fill: #D2E3FC;\n",
       "    }\n",
       "\n",
       "    [theme=dark] .colab-df-convert:hover {\n",
       "      background-color: #434B5C;\n",
       "      box-shadow: 0px 1px 3px 1px rgba(0, 0, 0, 0.15);\n",
       "      filter: drop-shadow(0px 1px 2px rgba(0, 0, 0, 0.3));\n",
       "      fill: #FFFFFF;\n",
       "    }\n",
       "  </style>\n",
       "\n",
       "      <script>\n",
       "        const buttonEl =\n",
       "          document.querySelector('#df-e116fc12-238c-4615-9cba-310b893a1b5a button.colab-df-convert');\n",
       "        buttonEl.style.display =\n",
       "          google.colab.kernel.accessAllowed ? 'block' : 'none';\n",
       "\n",
       "        async function convertToInteractive(key) {\n",
       "          const element = document.querySelector('#df-e116fc12-238c-4615-9cba-310b893a1b5a');\n",
       "          const dataTable =\n",
       "            await google.colab.kernel.invokeFunction('convertToInteractive',\n",
       "                                                     [key], {});\n",
       "          if (!dataTable) return;\n",
       "\n",
       "          const docLinkHtml = 'Like what you see? Visit the ' +\n",
       "            '<a target=\"_blank\" href=https://colab.research.google.com/notebooks/data_table.ipynb>data table notebook</a>'\n",
       "            + ' to learn more about interactive tables.';\n",
       "          element.innerHTML = '';\n",
       "          dataTable['output_type'] = 'display_data';\n",
       "          await google.colab.output.renderOutput(dataTable, element);\n",
       "          const docLink = document.createElement('div');\n",
       "          docLink.innerHTML = docLinkHtml;\n",
       "          element.appendChild(docLink);\n",
       "        }\n",
       "      </script>\n",
       "    </div>\n",
       "  </div>\n",
       "  "
      ],
      "text/plain": [
       "   Topic  Count                           Name\n",
       "0     -1   3426               -1_to_of_the_and\n",
       "1      0    948      0_space_launch_nasa_orbit\n",
       "2      1    912           1_car_cars_engine_it\n",
       "3      2    906        2_he_game_year_baseball\n",
       "4      3    906   3_window_server_motif_widget\n",
       "5      4    866      4_mac_apple_drive_monitor\n",
       "6      5    844        5_gun_guns_firearms_the\n",
       "7      6    788          6_team_game_25_hockey\n",
       "8      7    706   7_image_jpeg_images_graphics\n",
       "9      8    705  8_key_clipper_encryption_chip"
      ]
     },
     "execution_count": 17,
     "metadata": {},
     "output_type": "execute_result"
    }
   ],
   "source": [
    "topic_model.get_topic_info().head(10)"
   ]
  },
  {
   "cell_type": "markdown",
   "metadata": {
    "id": "dVUNZ8x6rkvI"
   },
   "source": [
    "Not only do we see a nice seperation of the topics, there are significantly less outliers which shows that BERTopic has improved in connecting the documents to topics. \n",
    "\n",
    "Let's see the results by again visualizing the topic representation per class:"
   ]
  },
  {
   "cell_type": "code",
   "execution_count": null,
   "metadata": {
    "colab": {
     "base_uri": "https://localhost:8080/",
     "height": 917
    },
    "id": "jsqfvmXPjLiq",
    "outputId": "2f4ac844-65b5-4103-8013-dca33574233f"
   },
   "outputs": [
    {
     "data": {
      "text/html": [
       "<html>\n",
       "<head><meta charset=\"utf-8\" /></head>\n",
       "<body>\n",
       "    <div>            <script src=\"https://cdnjs.cloudflare.com/ajax/libs/mathjax/2.7.5/MathJax.js?config=TeX-AMS-MML_SVG\"></script><script type=\"text/javascript\">if (window.MathJax) {MathJax.Hub.Config({SVG: {font: \"STIX-Web\"}});}</script>                <script type=\"text/javascript\">window.PlotlyConfig = {MathJaxConfig: 'local'};</script>\n",
       "        <script src=\"https://cdn.plot.ly/plotly-2.8.3.min.js\"></script>                <div id=\"c8b90fff-52dd-4a69-bccb-af44a23f5467\" class=\"plotly-graph-div\" style=\"height:900px; width:900px;\"></div>            <script type=\"text/javascript\">                                    window.PLOTLYENV=window.PLOTLYENV || {};                                    if (document.getElementById(\"c8b90fff-52dd-4a69-bccb-af44a23f5467\")) {                    Plotly.newPlot(                        \"c8b90fff-52dd-4a69-bccb-af44a23f5467\",                        [{\"hoverinfo\":\"text\",\"hovertext\":[\"<b>Topic 0</b><br>Words: pspodhoochlercnasagov, podleski, 2164334000, 44135, ohio\",\"<b>Topic 0</b><br>Words: list, listserv, 4338898, saari, kalfaoglu\",\"<b>Topic 0</b><br>Words: elevators, youd, gleaming, parody, food\",\"<b>Topic 0</b><br>Words: comdex, peers, info, 021942722, direction\",\"<b>Topic 0</b><br>Words: balls, 15day, rename, uuencoded, year\",\"<b>Topic 0</b><br>Words: noah, electron, bigger, move, anybody\",\"<b>Topic 0</b><br>Words: dank, vielen, desperate, fan, space\",\"<b>Topic 0</b><br>Words: niet, ik, rolex, meer, dit\",\"<b>Topic 0</b><br>Words: explode, screws, preferably, hints, em\",\"<b>Topic 0</b><br>Words: atlantaga, apollos, retire, comdex, recycle\",\"<b>Topic 0</b><br>Words: sites, biscayne, extension, bel, gonna\",\"<b>Topic 0</b><br>Words: space, launch, nasa, orbit, shuttle\",\"<b>Topic 0</b><br>Words: tornadoes, infinite, observer, singularity, horizon\",\"<b>Topic 0</b><br>Words: 50mm, girish, calibre, eggs, aircraft\",\"<b>Topic 0</b><br>Words: horizon, winged, event, probe, clockwise\",\"<b>Topic 0</b><br>Words: investment, benfits, 34th, aipacs, resounding\",\"<b>Topic 0</b><br>Words: seep, compost, dispose, palms, hers\",\"<b>Topic 0</b><br>Words: corn, canada, canadian, scientist, palmer\",\"<b>Topic 0</b><br>Words: dollarslife, gov, collapse, inevitable, policestate\"],\"marker\":{\"color\":\"#E69F00\"},\"name\":\"0_space_launch_nasa_orbit\",\"orientation\":\"h\",\"visible\":true,\"x\":[7,3,6,4,3,1,1,1,2,2,3,891,5,5,6,2,1,4,1],\"y\":[\"talk.politics.guns\",\"comp.graphics\",\"sci.electronics\",\"comp.os.ms-windows.misc\",\"rec.sport.baseball\",\"comp.sys.mac.hardware\",\"rec.sport.hockey\",\"misc.forsale\",\"rec.motorcycles\",\"comp.sys.ibm.pc.hardware\",\"rec.autos\",\"sci.space\",\"alt.atheism\",\"talk.politics.misc\",\"talk.religion.misc\",\"talk.politics.mideast\",\"soc.religion.christian\",\"sci.med\",\"sci.crypt\"],\"type\":\"bar\"},{\"hoverinfo\":\"text\",\"hovertext\":[\"<b>Topic 1</b><br>Words: inconvience, paxton, compgraphics, noticed, wondering\",\"<b>Topic 1</b><br>Words: cars, throop, brandmodel, elephant, attention\",\"<b>Topic 1</b><br>Words: shift, key, send, too, him\",\"<b>Topic 1</b><br>Words: japanese, neatly, arose, nut, partner\",\"<b>Topic 1</b><br>Words: pigpens, sprint, mini, surprised, race\",\"<b>Topic 1</b><br>Words: filing, hisher, dial, tires, cellular\",\"<b>Topic 1</b><br>Words: reverisible, unpoke, poke, easy, as\",\"<b>Topic 1</b><br>Words: car, cars, engine, it, ford\",\"<b>Topic 1</b><br>Words: mile, structure, column, height, tower\",\"<b>Topic 1</b><br>Words: noodle, lash, inherit, trains, commenting\",\"<b>Topic 1</b><br>Words: train, lubbock, goods, dallas, houston\",\"<b>Topic 1</b><br>Words: train, 60mph, bullet, stationary, moving\",\"<b>Topic 1</b><br>Words: methanol, butyl, methanex, tertiary, ethanol\",\"<b>Topic 1</b><br>Words: courts, upheld, bulgaria, vesselin, progressive\"],\"marker\":{\"color\":\"#56B4E9\"},\"name\":\"1_car_cars_engine_it\",\"orientation\":\"h\",\"visible\":\"legendonly\",\"x\":[1,2,1,3,1,5,1,887,2,2,3,1,1,2],\"y\":[\"comp.graphics\",\"sci.electronics\",\"rec.sport.baseball\",\"comp.sys.mac.hardware\",\"rec.sport.hockey\",\"misc.forsale\",\"comp.sys.ibm.pc.hardware\",\"rec.autos\",\"sci.space\",\"alt.atheism\",\"talk.politics.misc\",\"talk.religion.misc\",\"sci.med\",\"sci.crypt\"],\"type\":\"bar\"},{\"hoverinfo\":\"text\",\"hovertext\":[\"<b>Topic 2</b><br>Words: hungry, polar, drew, mad, nearby\",\"<b>Topic 2</b><br>Words: he, game, year, baseball, team\",\"<b>Topic 2</b><br>Words: oooo, jcssageccpurdueedu, pureesageccjcs, stalnaker, ernest\",\"<b>Topic 2</b><br>Words: bzzzt, sucker, hed, feet, playing\",\"<b>Topic 2</b><br>Words: performance, ranges, absurd, writers, convince\",\"<b>Topic 2</b><br>Words: askin, costigan, commision, oz, wanna\",\"<b>Topic 2</b><br>Words: sf, fans, number, versa, libertarians\",\"<b>Topic 2</b><br>Words: restock, anon15031anonpenetfi, pcp, mcguire, wayne\",\"<b>Topic 2</b><br>Words: oo, bbbbb, bb, 5ae, u2i02keeleacuk\"],\"marker\":{\"color\":\"#009E73\"},\"name\":\"2_he_game_year_baseball\",\"orientation\":\"h\",\"visible\":\"legendonly\",\"x\":[1,897,1,1,1,1,2,1,1],\"y\":[\"talk.politics.guns\",\"rec.sport.baseball\",\"comp.sys.mac.hardware\",\"rec.motorcycles\",\"comp.sys.ibm.pc.hardware\",\"sci.space\",\"talk.politics.misc\",\"talk.politics.mideast\",\"soc.religion.christian\"],\"type\":\"bar\"},{\"hoverinfo\":\"text\",\"hovertext\":[\"<b>Topic 3</b><br>Words: xloadimage, onroot, giffilename, autotracing, freehand\",\"<b>Topic 3</b><br>Words: icon, hao, colors, dark, editor\",\"<b>Topic 3</b><br>Words: vv, zing, eeeee, eeee, ee\",\"<b>Topic 3</b><br>Words: window, server, motif, widget, application\",\"<b>Topic 3</b><br>Words: gtak110zip, ralf, aspi, unx, box\",\"<b>Topic 3</b><br>Words: hansk, spencers, xfaces, portraits, ftpuunet\"],\"marker\":{\"color\":\"#F0E442\"},\"name\":\"3_window_server_motif_widget\",\"orientation\":\"h\",\"visible\":\"legendonly\",\"x\":[2,3,3,895,2,1],\"y\":[\"comp.graphics\",\"comp.os.ms-windows.misc\",\"comp.sys.mac.hardware\",\"comp.windows.x\",\"comp.sys.ibm.pc.hardware\",\"sci.space\"],\"type\":\"bar\"},{\"hoverinfo\":\"text\",\"hovertext\":[\"<b>Topic 4</b><br>Words: scanners, keywords, trigger, sig, intervention\",\"<b>Topic 4</b><br>Words: paintbrush, scanner, nobrega, zsofts, scanman\",\"<b>Topic 4</b><br>Words: ntsc, integrated, datcccunyvmcunyedu, gsp500, genlocks\",\"<b>Topic 4</b><br>Words: fax, faxmodem, print, software, tinkering\",\"<b>Topic 4</b><br>Words: mac, apple, drive, monitor, with\",\"<b>Topic 4</b><br>Words: game, intellevision, fairway, hexadecimal, midflight\",\"<b>Topic 4</b><br>Words: fax321tarz, netfax, forewarned, prepaimitedu, costly\",\"<b>Topic 4</b><br>Words: xircom, connects, pocket, adapter, ethernet\",\"<b>Topic 4</b><br>Words: scanner, dpi, scanners, mustek, dexxa\",\"<b>Topic 4</b><br>Words: condenstion, suppposed, twophase, dripping, keyboards\"],\"marker\":{\"color\":\"#D55E00\"},\"name\":\"4_mac_apple_drive_monitor\",\"orientation\":\"h\",\"visible\":\"legendonly\",\"x\":[1,2,4,2,847,1,1,1,6,1],\"y\":[\"talk.politics.guns\",\"comp.graphics\",\"sci.electronics\",\"comp.os.ms-windows.misc\",\"comp.sys.mac.hardware\",\"rec.sport.hockey\",\"comp.windows.x\",\"misc.forsale\",\"comp.sys.ibm.pc.hardware\",\"sci.space\"],\"type\":\"bar\"},{\"hoverinfo\":\"text\",\"hovertext\":[\"<b>Topic 5</b><br>Words: gun, guns, firearms, the, they\",\"<b>Topic 5</b><br>Words: overpowered, batten, contribxv300tarz, hatches, 30k\",\"<b>Topic 5</b><br>Words: mercury, defense, stirred, red, originating\",\"<b>Topic 5</b><br>Words: doom, election, catch, loch, faircloth\",\"<b>Topic 5</b><br>Words: ucc, parol, 2316, rboudriechpcorg, boudrie\",\"<b>Topic 5</b><br>Words: macelwaines, gnp, exports, actually, mexicos\",\"<b>Topic 5</b><br>Words: jimhcarsonuwashingtonedu, afghans, hogan, entertaining, entertainment\",\"<b>Topic 5</b><br>Words: revolution, underground, waco, rationalization, townhouse\",\"<b>Topic 5</b><br>Words: collection, fbi, independent, motive, firearms\",\"<b>Topic 5</b><br>Words: fbigov, desintegrated, incitement, surgical, missile\",\"<b>Topic 5</b><br>Words: vests, bulletproof, promote, usage, safe\",\"<b>Topic 5</b><br>Words: workers, employees, osha, afscme, inmates\",\"<b>Topic 5</b><br>Words: trafficker, rabies, feustelnetcomcom, n9myi, feustel\"],\"marker\":{\"color\":\"#0072B2\"},\"name\":\"5_gun_guns_firearms_the\",\"orientation\":\"h\",\"visible\":\"legendonly\",\"x\":[813,1,2,4,2,2,2,3,7,3,1,2,2],\"y\":[\"talk.politics.guns\",\"comp.windows.x\",\"misc.forsale\",\"rec.motorcycles\",\"rec.autos\",\"sci.space\",\"alt.atheism\",\"talk.politics.misc\",\"talk.religion.misc\",\"talk.politics.mideast\",\"soc.religion.christian\",\"sci.med\",\"sci.crypt\"],\"type\":\"bar\"},{\"hoverinfo\":\"text\",\"hovertext\":[\"<b>Topic 6</b><br>Words: watch, 1993, gretzky, wayne, roger\",\"<b>Topic 6</b><br>Words: team, game, 25, hockey, play\",\"<b>Topic 6</b><br>Words: andy, pool, table, tell, us\",\"<b>Topic 6</b><br>Words: quinea, papua, translation, buying, seriously\",\"<b>Topic 6</b><br>Words: wisconsin, minnesota, minnestoa, provences, states\",\"<b>Topic 6</b><br>Words: sturm, doug, familiar, anyone, with\"],\"marker\":{\"color\":\"#CC79A7\"},\"name\":\"6_team_game_25_hockey\",\"orientation\":\"h\",\"visible\":\"legendonly\",\"x\":[3,781,1,1,1,1],\"y\":[\"rec.sport.baseball\",\"rec.sport.hockey\",\"misc.forsale\",\"comp.sys.ibm.pc.hardware\",\"alt.atheism\",\"soc.religion.christian\"],\"type\":\"bar\"},{\"hoverinfo\":\"text\",\"hovertext\":[\"<b>Topic 7</b><br>Words: image, jpeg, images, graphics, format\",\"<b>Topic 7</b><br>Words: library, seminar, presentations, clip, art\",\"<b>Topic 7</b><br>Words: woulds, robin, post, ryan, hundreds\",\"<b>Topic 7</b><br>Words: perth, code, applecentre, 6192214511, anielsendialixozau\",\"<b>Topic 7</b><br>Words: clrnmsuedu, archives, crlnmsuedu, multilingual, lexicalnmsuedu\",\"<b>Topic 7</b><br>Words: lvdts, buildbuy, digitize, logging, o2\",\"<b>Topic 7</b><br>Words: nicfunetfi, funetfi, site, pool, biggest\",\"<b>Topic 7</b><br>Words: maps, jpeg, converting, compressed, reduced\",\"<b>Topic 7</b><br>Words: someone, appreciate, brought, details, asked\",\"<b>Topic 7</b><br>Words: rivetting, speach, uv, brief, wonderful\",\"<b>Topic 7</b><br>Words: imports, harwards, preachers, windows, slides\"],\"marker\":{\"color\":\"#E69F00\"},\"name\":\"7_image_jpeg_images_graphics\",\"orientation\":\"h\",\"visible\":\"legendonly\",\"x\":[691,3,1,2,3,1,1,1,1,1,1],\"y\":[\"comp.graphics\",\"comp.os.ms-windows.misc\",\"rec.sport.baseball\",\"comp.sys.mac.hardware\",\"comp.windows.x\",\"rec.motorcycles\",\"comp.sys.ibm.pc.hardware\",\"sci.space\",\"talk.religion.misc\",\"talk.politics.mideast\",\"soc.religion.christian\"],\"type\":\"bar\"},{\"hoverinfo\":\"text\",\"hovertext\":[\"<b>Topic 8</b><br>Words: irs, swat, marshalls, feustelnetcomcom, n9myi\",\"<b>Topic 8</b><br>Words: orders, selfmodifying, digit, neumann, modify\",\"<b>Topic 8</b><br>Words: remedy, pd, millions, networks, libraries\",\"<b>Topic 8</b><br>Words: plase, expound, discussion, feel, days\",\"<b>Topic 8</b><br>Words: intelliegence, mena, executives, corporate, steal\",\"<b>Topic 8</b><br>Words: mathew, keys, impropriety, offender, government\",\"<b>Topic 8</b><br>Words: wellknown, widely, chairperson, aec, nonmainstream\",\"<b>Topic 8</b><br>Words: ssn, whoa, smoking, foods, eh\",\"<b>Topic 8</b><br>Words: key, clipper, encryption, chip, keys\"],\"marker\":{\"color\":\"#56B4E9\"},\"name\":\"8_key_clipper_encryption_chip\",\"orientation\":\"h\",\"visible\":\"legendonly\",\"x\":[1,1,1,1,1,2,2,1,695],\"y\":[\"talk.politics.guns\",\"sci.electronics\",\"comp.os.ms-windows.misc\",\"rec.autos\",\"sci.space\",\"alt.atheism\",\"talk.politics.misc\",\"sci.med\",\"sci.crypt\"],\"type\":\"bar\"},{\"hoverinfo\":\"text\",\"hovertext\":[\"<b>Topic 9</b><br>Words: ites, cheek, ken, ignore, luck\",\"<b>Topic 9</b><br>Words: ites, cheek, ken, ignore, luck\",\"<b>Topic 9</b><br>Words: ites, cheek, ken, ignore, luck\",\"<b>Topic 9</b><br>Words: ites, cheek, ken, ignore, luck\",\"<b>Topic 9</b><br>Words: why, ites, cheek, ken, ignore\",\"<b>Topic 9</b><br>Words: art, each, ites, cheek, ken\",\"<b>Topic 9</b><br>Words: ites, cheek, ken, ignore, luck\",\"<b>Topic 9</b><br>Words: ites, cheek, ken, ignore, luck\",\"<b>Topic 9</b><br>Words: ken, ites, cheek, ignore, luck\",\"<b>Topic 9</b><br>Words: ignore, forget, lets, ites, cheek\",\"<b>Topic 9</b><br>Words: ites, cheek, ken, ignore, luck\",\"<b>Topic 9</b><br>Words: ites, cheek, luck, good, ken\",\"<b>Topic 9</b><br>Words: ites, cheek, ken, ignore, luck\",\"<b>Topic 9</b><br>Words: ites, cheek, ken, ignore, luck\",\"<b>Topic 9</b><br>Words: again, not, this, ites, cheek\",\"<b>Topic 9</b><br>Words: ites, cheek, ken, ignore, luck\",\"<b>Topic 9</b><br>Words: ites, cheek, ken, ignore, luck\",\"<b>Topic 9</b><br>Words: ites, cheek, ken, ignore, luck\",\"<b>Topic 9</b><br>Words: good, very, ites, cheek, ken\",\"<b>Topic 9</b><br>Words: ites, cheek, ken, ignore, luck\"],\"marker\":{\"color\":\"#009E73\"},\"name\":\"9_ites_cheek_ken_ignore\",\"orientation\":\"h\",\"visible\":\"legendonly\",\"x\":[24,18,26,38,38,36,24,6,17,29,18,56,32,20,20,23,21,22,31,29],\"y\":[\"talk.politics.guns\",\"comp.graphics\",\"sci.electronics\",\"comp.os.ms-windows.misc\",\"rec.sport.baseball\",\"comp.sys.mac.hardware\",\"rec.sport.hockey\",\"comp.windows.x\",\"misc.forsale\",\"rec.motorcycles\",\"comp.sys.ibm.pc.hardware\",\"rec.autos\",\"sci.space\",\"alt.atheism\",\"talk.politics.misc\",\"talk.religion.misc\",\"talk.politics.mideast\",\"soc.religion.christian\",\"sci.med\",\"sci.crypt\"],\"type\":\"bar\"}],                        {\"template\":{\"data\":{\"barpolar\":[{\"marker\":{\"line\":{\"color\":\"white\",\"width\":0.5},\"pattern\":{\"fillmode\":\"overlay\",\"size\":10,\"solidity\":0.2}},\"type\":\"barpolar\"}],\"bar\":[{\"error_x\":{\"color\":\"rgb(36,36,36)\"},\"error_y\":{\"color\":\"rgb(36,36,36)\"},\"marker\":{\"line\":{\"color\":\"white\",\"width\":0.5},\"pattern\":{\"fillmode\":\"overlay\",\"size\":10,\"solidity\":0.2}},\"type\":\"bar\"}],\"carpet\":[{\"aaxis\":{\"endlinecolor\":\"rgb(36,36,36)\",\"gridcolor\":\"white\",\"linecolor\":\"white\",\"minorgridcolor\":\"white\",\"startlinecolor\":\"rgb(36,36,36)\"},\"baxis\":{\"endlinecolor\":\"rgb(36,36,36)\",\"gridcolor\":\"white\",\"linecolor\":\"white\",\"minorgridcolor\":\"white\",\"startlinecolor\":\"rgb(36,36,36)\"},\"type\":\"carpet\"}],\"choropleth\":[{\"colorbar\":{\"outlinewidth\":1,\"tickcolor\":\"rgb(36,36,36)\",\"ticks\":\"outside\"},\"type\":\"choropleth\"}],\"contourcarpet\":[{\"colorbar\":{\"outlinewidth\":1,\"tickcolor\":\"rgb(36,36,36)\",\"ticks\":\"outside\"},\"type\":\"contourcarpet\"}],\"contour\":[{\"colorbar\":{\"outlinewidth\":1,\"tickcolor\":\"rgb(36,36,36)\",\"ticks\":\"outside\"},\"colorscale\":[[0.0,\"#440154\"],[0.1111111111111111,\"#482878\"],[0.2222222222222222,\"#3e4989\"],[0.3333333333333333,\"#31688e\"],[0.4444444444444444,\"#26828e\"],[0.5555555555555556,\"#1f9e89\"],[0.6666666666666666,\"#35b779\"],[0.7777777777777778,\"#6ece58\"],[0.8888888888888888,\"#b5de2b\"],[1.0,\"#fde725\"]],\"type\":\"contour\"}],\"heatmapgl\":[{\"colorbar\":{\"outlinewidth\":1,\"tickcolor\":\"rgb(36,36,36)\",\"ticks\":\"outside\"},\"colorscale\":[[0.0,\"#440154\"],[0.1111111111111111,\"#482878\"],[0.2222222222222222,\"#3e4989\"],[0.3333333333333333,\"#31688e\"],[0.4444444444444444,\"#26828e\"],[0.5555555555555556,\"#1f9e89\"],[0.6666666666666666,\"#35b779\"],[0.7777777777777778,\"#6ece58\"],[0.8888888888888888,\"#b5de2b\"],[1.0,\"#fde725\"]],\"type\":\"heatmapgl\"}],\"heatmap\":[{\"colorbar\":{\"outlinewidth\":1,\"tickcolor\":\"rgb(36,36,36)\",\"ticks\":\"outside\"},\"colorscale\":[[0.0,\"#440154\"],[0.1111111111111111,\"#482878\"],[0.2222222222222222,\"#3e4989\"],[0.3333333333333333,\"#31688e\"],[0.4444444444444444,\"#26828e\"],[0.5555555555555556,\"#1f9e89\"],[0.6666666666666666,\"#35b779\"],[0.7777777777777778,\"#6ece58\"],[0.8888888888888888,\"#b5de2b\"],[1.0,\"#fde725\"]],\"type\":\"heatmap\"}],\"histogram2dcontour\":[{\"colorbar\":{\"outlinewidth\":1,\"tickcolor\":\"rgb(36,36,36)\",\"ticks\":\"outside\"},\"colorscale\":[[0.0,\"#440154\"],[0.1111111111111111,\"#482878\"],[0.2222222222222222,\"#3e4989\"],[0.3333333333333333,\"#31688e\"],[0.4444444444444444,\"#26828e\"],[0.5555555555555556,\"#1f9e89\"],[0.6666666666666666,\"#35b779\"],[0.7777777777777778,\"#6ece58\"],[0.8888888888888888,\"#b5de2b\"],[1.0,\"#fde725\"]],\"type\":\"histogram2dcontour\"}],\"histogram2d\":[{\"colorbar\":{\"outlinewidth\":1,\"tickcolor\":\"rgb(36,36,36)\",\"ticks\":\"outside\"},\"colorscale\":[[0.0,\"#440154\"],[0.1111111111111111,\"#482878\"],[0.2222222222222222,\"#3e4989\"],[0.3333333333333333,\"#31688e\"],[0.4444444444444444,\"#26828e\"],[0.5555555555555556,\"#1f9e89\"],[0.6666666666666666,\"#35b779\"],[0.7777777777777778,\"#6ece58\"],[0.8888888888888888,\"#b5de2b\"],[1.0,\"#fde725\"]],\"type\":\"histogram2d\"}],\"histogram\":[{\"marker\":{\"line\":{\"color\":\"white\",\"width\":0.6}},\"type\":\"histogram\"}],\"mesh3d\":[{\"colorbar\":{\"outlinewidth\":1,\"tickcolor\":\"rgb(36,36,36)\",\"ticks\":\"outside\"},\"type\":\"mesh3d\"}],\"parcoords\":[{\"line\":{\"colorbar\":{\"outlinewidth\":1,\"tickcolor\":\"rgb(36,36,36)\",\"ticks\":\"outside\"}},\"type\":\"parcoords\"}],\"pie\":[{\"automargin\":true,\"type\":\"pie\"}],\"scatter3d\":[{\"line\":{\"colorbar\":{\"outlinewidth\":1,\"tickcolor\":\"rgb(36,36,36)\",\"ticks\":\"outside\"}},\"marker\":{\"colorbar\":{\"outlinewidth\":1,\"tickcolor\":\"rgb(36,36,36)\",\"ticks\":\"outside\"}},\"type\":\"scatter3d\"}],\"scattercarpet\":[{\"marker\":{\"colorbar\":{\"outlinewidth\":1,\"tickcolor\":\"rgb(36,36,36)\",\"ticks\":\"outside\"}},\"type\":\"scattercarpet\"}],\"scattergeo\":[{\"marker\":{\"colorbar\":{\"outlinewidth\":1,\"tickcolor\":\"rgb(36,36,36)\",\"ticks\":\"outside\"}},\"type\":\"scattergeo\"}],\"scattergl\":[{\"marker\":{\"colorbar\":{\"outlinewidth\":1,\"tickcolor\":\"rgb(36,36,36)\",\"ticks\":\"outside\"}},\"type\":\"scattergl\"}],\"scattermapbox\":[{\"marker\":{\"colorbar\":{\"outlinewidth\":1,\"tickcolor\":\"rgb(36,36,36)\",\"ticks\":\"outside\"}},\"type\":\"scattermapbox\"}],\"scatterpolargl\":[{\"marker\":{\"colorbar\":{\"outlinewidth\":1,\"tickcolor\":\"rgb(36,36,36)\",\"ticks\":\"outside\"}},\"type\":\"scatterpolargl\"}],\"scatterpolar\":[{\"marker\":{\"colorbar\":{\"outlinewidth\":1,\"tickcolor\":\"rgb(36,36,36)\",\"ticks\":\"outside\"}},\"type\":\"scatterpolar\"}],\"scatter\":[{\"marker\":{\"colorbar\":{\"outlinewidth\":1,\"tickcolor\":\"rgb(36,36,36)\",\"ticks\":\"outside\"}},\"type\":\"scatter\"}],\"scatterternary\":[{\"marker\":{\"colorbar\":{\"outlinewidth\":1,\"tickcolor\":\"rgb(36,36,36)\",\"ticks\":\"outside\"}},\"type\":\"scatterternary\"}],\"surface\":[{\"colorbar\":{\"outlinewidth\":1,\"tickcolor\":\"rgb(36,36,36)\",\"ticks\":\"outside\"},\"colorscale\":[[0.0,\"#440154\"],[0.1111111111111111,\"#482878\"],[0.2222222222222222,\"#3e4989\"],[0.3333333333333333,\"#31688e\"],[0.4444444444444444,\"#26828e\"],[0.5555555555555556,\"#1f9e89\"],[0.6666666666666666,\"#35b779\"],[0.7777777777777778,\"#6ece58\"],[0.8888888888888888,\"#b5de2b\"],[1.0,\"#fde725\"]],\"type\":\"surface\"}],\"table\":[{\"cells\":{\"fill\":{\"color\":\"rgb(237,237,237)\"},\"line\":{\"color\":\"white\"}},\"header\":{\"fill\":{\"color\":\"rgb(217,217,217)\"},\"line\":{\"color\":\"white\"}},\"type\":\"table\"}]},\"layout\":{\"annotationdefaults\":{\"arrowhead\":0,\"arrowwidth\":1},\"autotypenumbers\":\"strict\",\"coloraxis\":{\"colorbar\":{\"outlinewidth\":1,\"tickcolor\":\"rgb(36,36,36)\",\"ticks\":\"outside\"}},\"colorscale\":{\"diverging\":[[0.0,\"rgb(103,0,31)\"],[0.1,\"rgb(178,24,43)\"],[0.2,\"rgb(214,96,77)\"],[0.3,\"rgb(244,165,130)\"],[0.4,\"rgb(253,219,199)\"],[0.5,\"rgb(247,247,247)\"],[0.6,\"rgb(209,229,240)\"],[0.7,\"rgb(146,197,222)\"],[0.8,\"rgb(67,147,195)\"],[0.9,\"rgb(33,102,172)\"],[1.0,\"rgb(5,48,97)\"]],\"sequential\":[[0.0,\"#440154\"],[0.1111111111111111,\"#482878\"],[0.2222222222222222,\"#3e4989\"],[0.3333333333333333,\"#31688e\"],[0.4444444444444444,\"#26828e\"],[0.5555555555555556,\"#1f9e89\"],[0.6666666666666666,\"#35b779\"],[0.7777777777777778,\"#6ece58\"],[0.8888888888888888,\"#b5de2b\"],[1.0,\"#fde725\"]],\"sequentialminus\":[[0.0,\"#440154\"],[0.1111111111111111,\"#482878\"],[0.2222222222222222,\"#3e4989\"],[0.3333333333333333,\"#31688e\"],[0.4444444444444444,\"#26828e\"],[0.5555555555555556,\"#1f9e89\"],[0.6666666666666666,\"#35b779\"],[0.7777777777777778,\"#6ece58\"],[0.8888888888888888,\"#b5de2b\"],[1.0,\"#fde725\"]]},\"colorway\":[\"#1F77B4\",\"#FF7F0E\",\"#2CA02C\",\"#D62728\",\"#9467BD\",\"#8C564B\",\"#E377C2\",\"#7F7F7F\",\"#BCBD22\",\"#17BECF\"],\"font\":{\"color\":\"rgb(36,36,36)\"},\"geo\":{\"bgcolor\":\"white\",\"lakecolor\":\"white\",\"landcolor\":\"white\",\"showlakes\":true,\"showland\":true,\"subunitcolor\":\"white\"},\"hoverlabel\":{\"align\":\"left\"},\"hovermode\":\"closest\",\"mapbox\":{\"style\":\"light\"},\"paper_bgcolor\":\"white\",\"plot_bgcolor\":\"white\",\"polar\":{\"angularaxis\":{\"gridcolor\":\"rgb(232,232,232)\",\"linecolor\":\"rgb(36,36,36)\",\"showgrid\":false,\"showline\":true,\"ticks\":\"outside\"},\"bgcolor\":\"white\",\"radialaxis\":{\"gridcolor\":\"rgb(232,232,232)\",\"linecolor\":\"rgb(36,36,36)\",\"showgrid\":false,\"showline\":true,\"ticks\":\"outside\"}},\"scene\":{\"xaxis\":{\"backgroundcolor\":\"white\",\"gridcolor\":\"rgb(232,232,232)\",\"gridwidth\":2,\"linecolor\":\"rgb(36,36,36)\",\"showbackground\":true,\"showgrid\":false,\"showline\":true,\"ticks\":\"outside\",\"zeroline\":false,\"zerolinecolor\":\"rgb(36,36,36)\"},\"yaxis\":{\"backgroundcolor\":\"white\",\"gridcolor\":\"rgb(232,232,232)\",\"gridwidth\":2,\"linecolor\":\"rgb(36,36,36)\",\"showbackground\":true,\"showgrid\":false,\"showline\":true,\"ticks\":\"outside\",\"zeroline\":false,\"zerolinecolor\":\"rgb(36,36,36)\"},\"zaxis\":{\"backgroundcolor\":\"white\",\"gridcolor\":\"rgb(232,232,232)\",\"gridwidth\":2,\"linecolor\":\"rgb(36,36,36)\",\"showbackground\":true,\"showgrid\":false,\"showline\":true,\"ticks\":\"outside\",\"zeroline\":false,\"zerolinecolor\":\"rgb(36,36,36)\"}},\"shapedefaults\":{\"fillcolor\":\"black\",\"line\":{\"width\":0},\"opacity\":0.3},\"ternary\":{\"aaxis\":{\"gridcolor\":\"rgb(232,232,232)\",\"linecolor\":\"rgb(36,36,36)\",\"showgrid\":false,\"showline\":true,\"ticks\":\"outside\"},\"baxis\":{\"gridcolor\":\"rgb(232,232,232)\",\"linecolor\":\"rgb(36,36,36)\",\"showgrid\":false,\"showline\":true,\"ticks\":\"outside\"},\"bgcolor\":\"white\",\"caxis\":{\"gridcolor\":\"rgb(232,232,232)\",\"linecolor\":\"rgb(36,36,36)\",\"showgrid\":false,\"showline\":true,\"ticks\":\"outside\"}},\"title\":{\"x\":0.05},\"xaxis\":{\"automargin\":true,\"gridcolor\":\"rgb(232,232,232)\",\"linecolor\":\"rgb(36,36,36)\",\"showgrid\":false,\"showline\":true,\"ticks\":\"outside\",\"title\":{\"standoff\":15},\"zeroline\":false,\"zerolinecolor\":\"rgb(36,36,36)\"},\"yaxis\":{\"automargin\":true,\"gridcolor\":\"rgb(232,232,232)\",\"linecolor\":\"rgb(36,36,36)\",\"showgrid\":false,\"showline\":true,\"ticks\":\"outside\",\"title\":{\"standoff\":15},\"zeroline\":false,\"zerolinecolor\":\"rgb(36,36,36)\"}}},\"xaxis\":{\"showgrid\":true,\"title\":{\"text\":\"Frequency\"}},\"yaxis\":{\"showgrid\":true,\"title\":{\"text\":\"Class\"}},\"title\":{\"font\":{\"size\":22,\"color\":\"Black\"},\"text\":\"<b>Topics per Class\",\"y\":0.95,\"x\":0.4,\"xanchor\":\"center\",\"yanchor\":\"top\"},\"hoverlabel\":{\"font\":{\"size\":16,\"family\":\"Rockwell\"},\"bgcolor\":\"white\"},\"width\":900,\"height\":900,\"legend\":{\"title\":{\"text\":\"<b>Global Topic Representation\"}}},                        {\"responsive\": true}                    ).then(function(){\n",
       "                            \n",
       "var gd = document.getElementById('c8b90fff-52dd-4a69-bccb-af44a23f5467');\n",
       "var x = new MutationObserver(function (mutations, observer) {{\n",
       "        var display = window.getComputedStyle(gd).display;\n",
       "        if (!display || display === 'none') {{\n",
       "            console.log([gd, 'removed!']);\n",
       "            Plotly.purge(gd);\n",
       "            observer.disconnect();\n",
       "        }}\n",
       "}});\n",
       "\n",
       "// Listen for the removal of the full notebook cells\n",
       "var notebookContainer = gd.closest('#notebook-container');\n",
       "if (notebookContainer) {{\n",
       "    x.observe(notebookContainer, {childList: true});\n",
       "}}\n",
       "\n",
       "// Listen for the clearing of the current output cell\n",
       "var outputEl = gd.closest('.output');\n",
       "if (outputEl) {{\n",
       "    x.observe(outputEl, {childList: true});\n",
       "}}\n",
       "\n",
       "                        })                };                            </script>        </div>\n",
       "</body>\n",
       "</html>"
      ]
     },
     "metadata": {},
     "output_type": "display_data"
    }
   ],
   "source": [
    "topics_per_class = topic_model.topics_per_class(docs, classes=classes)\n",
    "fig_supervised = topic_model.visualize_topics_per_class(topics_per_class, top_n_topics=10, width=900)\n",
    "fig_supervised"
   ]
  },
  {
   "cell_type": "markdown",
   "metadata": {
    "id": "htMnQdgUo9YH"
   },
   "source": [
    "Now that we have used all labels, BERTopic seems to closely match our pre-defined labels. Moreover, it still allows to discover topics that were not previously defined. Thus, you can use this method to find unknown topics in pre-defined topics!"
   ]
  }
 ],
 "metadata": {
  "accelerator": "GPU",
  "colab": {
   "provenance": [],
   "toc_visible": true
  },
  "gpuClass": "standard",
  "kernelspec": {
   "display_name": "Python 3 (ipykernel)",
   "language": "python",
   "name": "python3"
  },
  "language_info": {
   "codemirror_mode": {
    "name": "ipython",
    "version": 3
   },
   "file_extension": ".py",
   "mimetype": "text/x-python",
   "name": "python",
   "nbconvert_exporter": "python",
   "pygments_lexer": "ipython3",
   "version": "3.8.16"
  },
  "widgets": {
   "application/vnd.jupyter.widget-state+json": {
    "072b53592ce549008d4d6f4f9ca5416e": {
     "model_module": "@jupyter-widgets/controls",
     "model_module_version": "1.5.0",
     "model_name": "FloatProgressModel",
     "state": {
      "_dom_classes": [],
      "_model_module": "@jupyter-widgets/controls",
      "_model_module_version": "1.5.0",
      "_model_name": "FloatProgressModel",
      "_view_count": null,
      "_view_module": "@jupyter-widgets/controls",
      "_view_module_version": "1.5.0",
      "_view_name": "ProgressView",
      "bar_style": "success",
      "description": "Batches: 100%",
      "description_tooltip": null,
      "layout": "IPY_MODEL_0c02a7194ffe402b97b4a1c0f2a5ed75",
      "max": 589,
      "min": 0,
      "orientation": "horizontal",
      "style": "IPY_MODEL_bc52ea83368c4228bfcb8e28d9ad128c",
      "value": 589
     }
    },
    "07cd2274e5d142c68ba7ff98c1689abd": {
     "model_module": "@jupyter-widgets/controls",
     "model_module_version": "1.5.0",
     "model_name": "ProgressStyleModel",
     "state": {
      "_model_module": "@jupyter-widgets/controls",
      "_model_module_version": "1.5.0",
      "_model_name": "ProgressStyleModel",
      "_view_count": null,
      "_view_module": "@jupyter-widgets/base",
      "_view_module_version": "1.2.0",
      "_view_name": "StyleView",
      "bar_color": null,
      "description_width": ""
     }
    },
    "0c02a7194ffe402b97b4a1c0f2a5ed75": {
     "model_module": "@jupyter-widgets/base",
     "model_module_version": "1.2.0",
     "model_name": "LayoutModel",
     "state": {
      "_model_module": "@jupyter-widgets/base",
      "_model_module_version": "1.2.0",
      "_model_name": "LayoutModel",
      "_view_count": null,
      "_view_module": "@jupyter-widgets/base",
      "_view_module_version": "1.2.0",
      "_view_name": "LayoutView",
      "align_content": null,
      "align_items": null,
      "align_self": null,
      "border": null,
      "bottom": null,
      "display": null,
      "flex": null,
      "flex_flow": null,
      "grid_area": null,
      "grid_auto_columns": null,
      "grid_auto_flow": null,
      "grid_auto_rows": null,
      "grid_column": null,
      "grid_gap": null,
      "grid_row": null,
      "grid_template_areas": null,
      "grid_template_columns": null,
      "grid_template_rows": null,
      "height": null,
      "justify_content": null,
      "justify_items": null,
      "left": null,
      "margin": null,
      "max_height": null,
      "max_width": null,
      "min_height": null,
      "min_width": null,
      "object_fit": null,
      "object_position": null,
      "order": null,
      "overflow": null,
      "overflow_x": null,
      "overflow_y": null,
      "padding": null,
      "right": null,
      "top": null,
      "visibility": null,
      "width": null
     }
    },
    "0cd33ac02b014c79859e8cfc01d4f164": {
     "model_module": "@jupyter-widgets/controls",
     "model_module_version": "1.5.0",
     "model_name": "DescriptionStyleModel",
     "state": {
      "_model_module": "@jupyter-widgets/controls",
      "_model_module_version": "1.5.0",
      "_model_name": "DescriptionStyleModel",
      "_view_count": null,
      "_view_module": "@jupyter-widgets/base",
      "_view_module_version": "1.2.0",
      "_view_name": "StyleView",
      "description_width": ""
     }
    },
    "13123446f2094219a7072426df978db3": {
     "model_module": "@jupyter-widgets/controls",
     "model_module_version": "1.5.0",
     "model_name": "FloatProgressModel",
     "state": {
      "_dom_classes": [],
      "_model_module": "@jupyter-widgets/controls",
      "_model_module_version": "1.5.0",
      "_model_name": "FloatProgressModel",
      "_view_count": null,
      "_view_module": "@jupyter-widgets/controls",
      "_view_module_version": "1.5.0",
      "_view_name": "ProgressView",
      "bar_style": "success",
      "description": "",
      "description_tooltip": null,
      "layout": "IPY_MODEL_4e047bfe50f94f48b7f61504d405aed1",
      "max": 589,
      "min": 0,
      "orientation": "horizontal",
      "style": "IPY_MODEL_07cd2274e5d142c68ba7ff98c1689abd",
      "value": 589
     }
    },
    "285118713d794b7ab5038d17bc3f0858": {
     "model_module": "@jupyter-widgets/controls",
     "model_module_version": "1.5.0",
     "model_name": "DescriptionStyleModel",
     "state": {
      "_model_module": "@jupyter-widgets/controls",
      "_model_module_version": "1.5.0",
      "_model_name": "DescriptionStyleModel",
      "_view_count": null,
      "_view_module": "@jupyter-widgets/base",
      "_view_module_version": "1.2.0",
      "_view_name": "StyleView",
      "description_width": ""
     }
    },
    "305c43af75f5456cb698cc901732d65e": {
     "model_module": "@jupyter-widgets/controls",
     "model_module_version": "1.5.0",
     "model_name": "FloatProgressModel",
     "state": {
      "_dom_classes": [],
      "_model_module": "@jupyter-widgets/controls",
      "_model_module_version": "1.5.0",
      "_model_name": "FloatProgressModel",
      "_view_count": null,
      "_view_module": "@jupyter-widgets/controls",
      "_view_module_version": "1.5.0",
      "_view_name": "ProgressView",
      "bar_style": "success",
      "description": "Batches: 100%",
      "description_tooltip": null,
      "layout": "IPY_MODEL_cf376dda5e8b4046837d7dc7f05f20d9",
      "max": 589,
      "min": 0,
      "orientation": "horizontal",
      "style": "IPY_MODEL_d0620101a684490892159f5dee0c10bf",
      "value": 589
     }
    },
    "4e047bfe50f94f48b7f61504d405aed1": {
     "model_module": "@jupyter-widgets/base",
     "model_module_version": "1.2.0",
     "model_name": "LayoutModel",
     "state": {
      "_model_module": "@jupyter-widgets/base",
      "_model_module_version": "1.2.0",
      "_model_name": "LayoutModel",
      "_view_count": null,
      "_view_module": "@jupyter-widgets/base",
      "_view_module_version": "1.2.0",
      "_view_name": "LayoutView",
      "align_content": null,
      "align_items": null,
      "align_self": null,
      "border": null,
      "bottom": null,
      "display": null,
      "flex": null,
      "flex_flow": null,
      "grid_area": null,
      "grid_auto_columns": null,
      "grid_auto_flow": null,
      "grid_auto_rows": null,
      "grid_column": null,
      "grid_gap": null,
      "grid_row": null,
      "grid_template_areas": null,
      "grid_template_columns": null,
      "grid_template_rows": null,
      "height": null,
      "justify_content": null,
      "justify_items": null,
      "left": null,
      "margin": null,
      "max_height": null,
      "max_width": null,
      "min_height": null,
      "min_width": null,
      "object_fit": null,
      "object_position": null,
      "order": null,
      "overflow": null,
      "overflow_x": null,
      "overflow_y": null,
      "padding": null,
      "right": null,
      "top": null,
      "visibility": null,
      "width": null
     }
    },
    "4eb36960c3fa46e4b0f57253bf96f828": {
     "model_module": "@jupyter-widgets/controls",
     "model_module_version": "1.5.0",
     "model_name": "HTMLModel",
     "state": {
      "_dom_classes": [],
      "_model_module": "@jupyter-widgets/controls",
      "_model_module_version": "1.5.0",
      "_model_name": "HTMLModel",
      "_view_count": null,
      "_view_module": "@jupyter-widgets/controls",
      "_view_module_version": "1.5.0",
      "_view_name": "HTMLView",
      "description": "",
      "description_tooltip": null,
      "layout": "IPY_MODEL_6ef376f3104842779a505b8fc050a3cc",
      "placeholder": "​",
      "style": "IPY_MODEL_0cd33ac02b014c79859e8cfc01d4f164",
      "value": " 589/589 [05:12&lt;00:00,  1.88it/s]"
     }
    },
    "4f9b8665c61649e2aa14c8e979a57a39": {
     "model_module": "@jupyter-widgets/controls",
     "model_module_version": "1.5.0",
     "model_name": "HBoxModel",
     "state": {
      "_dom_classes": [],
      "_model_module": "@jupyter-widgets/controls",
      "_model_module_version": "1.5.0",
      "_model_name": "HBoxModel",
      "_view_count": null,
      "_view_module": "@jupyter-widgets/controls",
      "_view_module_version": "1.5.0",
      "_view_name": "HBoxView",
      "box_style": "",
      "children": [
       "IPY_MODEL_ca959ca910ce4932a889fe6391ff9889",
       "IPY_MODEL_13123446f2094219a7072426df978db3",
       "IPY_MODEL_77fd388533eb4290b904c5ef3ae1303c"
      ],
      "layout": "IPY_MODEL_5143207e999f4e49857b9128408d9548"
     }
    },
    "5143207e999f4e49857b9128408d9548": {
     "model_module": "@jupyter-widgets/base",
     "model_module_version": "1.2.0",
     "model_name": "LayoutModel",
     "state": {
      "_model_module": "@jupyter-widgets/base",
      "_model_module_version": "1.2.0",
      "_model_name": "LayoutModel",
      "_view_count": null,
      "_view_module": "@jupyter-widgets/base",
      "_view_module_version": "1.2.0",
      "_view_name": "LayoutView",
      "align_content": null,
      "align_items": null,
      "align_self": null,
      "border": null,
      "bottom": null,
      "display": null,
      "flex": null,
      "flex_flow": null,
      "grid_area": null,
      "grid_auto_columns": null,
      "grid_auto_flow": null,
      "grid_auto_rows": null,
      "grid_column": null,
      "grid_gap": null,
      "grid_row": null,
      "grid_template_areas": null,
      "grid_template_columns": null,
      "grid_template_rows": null,
      "height": null,
      "justify_content": null,
      "justify_items": null,
      "left": null,
      "margin": null,
      "max_height": null,
      "max_width": null,
      "min_height": null,
      "min_width": null,
      "object_fit": null,
      "object_position": null,
      "order": null,
      "overflow": null,
      "overflow_x": null,
      "overflow_y": null,
      "padding": null,
      "right": null,
      "top": null,
      "visibility": null,
      "width": null
     }
    },
    "51734b4e1fe64ad7b24d754af2c51a50": {
     "model_module": "@jupyter-widgets/controls",
     "model_module_version": "1.5.0",
     "model_name": "DescriptionStyleModel",
     "state": {
      "_model_module": "@jupyter-widgets/controls",
      "_model_module_version": "1.5.0",
      "_model_name": "DescriptionStyleModel",
      "_view_count": null,
      "_view_module": "@jupyter-widgets/base",
      "_view_module_version": "1.2.0",
      "_view_name": "StyleView",
      "description_width": ""
     }
    },
    "56ce6ce734da454889c8f5d1047792cc": {
     "model_module": "@jupyter-widgets/base",
     "model_module_version": "1.2.0",
     "model_name": "LayoutModel",
     "state": {
      "_model_module": "@jupyter-widgets/base",
      "_model_module_version": "1.2.0",
      "_model_name": "LayoutModel",
      "_view_count": null,
      "_view_module": "@jupyter-widgets/base",
      "_view_module_version": "1.2.0",
      "_view_name": "LayoutView",
      "align_content": null,
      "align_items": null,
      "align_self": null,
      "border": null,
      "bottom": null,
      "display": null,
      "flex": null,
      "flex_flow": null,
      "grid_area": null,
      "grid_auto_columns": null,
      "grid_auto_flow": null,
      "grid_auto_rows": null,
      "grid_column": null,
      "grid_gap": null,
      "grid_row": null,
      "grid_template_areas": null,
      "grid_template_columns": null,
      "grid_template_rows": null,
      "height": null,
      "justify_content": null,
      "justify_items": null,
      "left": null,
      "margin": null,
      "max_height": null,
      "max_width": null,
      "min_height": null,
      "min_width": null,
      "object_fit": null,
      "object_position": null,
      "order": null,
      "overflow": null,
      "overflow_x": null,
      "overflow_y": null,
      "padding": null,
      "right": null,
      "top": null,
      "visibility": null,
      "width": null
     }
    },
    "5750b64cc00b4b97ba7e9cc1784dfe23": {
     "model_module": "@jupyter-widgets/base",
     "model_module_version": "1.2.0",
     "model_name": "LayoutModel",
     "state": {
      "_model_module": "@jupyter-widgets/base",
      "_model_module_version": "1.2.0",
      "_model_name": "LayoutModel",
      "_view_count": null,
      "_view_module": "@jupyter-widgets/base",
      "_view_module_version": "1.2.0",
      "_view_name": "LayoutView",
      "align_content": null,
      "align_items": null,
      "align_self": null,
      "border": null,
      "bottom": null,
      "display": null,
      "flex": null,
      "flex_flow": null,
      "grid_area": null,
      "grid_auto_columns": null,
      "grid_auto_flow": null,
      "grid_auto_rows": null,
      "grid_column": null,
      "grid_gap": null,
      "grid_row": null,
      "grid_template_areas": null,
      "grid_template_columns": null,
      "grid_template_rows": null,
      "height": null,
      "justify_content": null,
      "justify_items": null,
      "left": null,
      "margin": null,
      "max_height": null,
      "max_width": null,
      "min_height": null,
      "min_width": null,
      "object_fit": null,
      "object_position": null,
      "order": null,
      "overflow": null,
      "overflow_x": null,
      "overflow_y": null,
      "padding": null,
      "right": null,
      "top": null,
      "visibility": null,
      "width": null
     }
    },
    "6ef376f3104842779a505b8fc050a3cc": {
     "model_module": "@jupyter-widgets/base",
     "model_module_version": "1.2.0",
     "model_name": "LayoutModel",
     "state": {
      "_model_module": "@jupyter-widgets/base",
      "_model_module_version": "1.2.0",
      "_model_name": "LayoutModel",
      "_view_count": null,
      "_view_module": "@jupyter-widgets/base",
      "_view_module_version": "1.2.0",
      "_view_name": "LayoutView",
      "align_content": null,
      "align_items": null,
      "align_self": null,
      "border": null,
      "bottom": null,
      "display": null,
      "flex": null,
      "flex_flow": null,
      "grid_area": null,
      "grid_auto_columns": null,
      "grid_auto_flow": null,
      "grid_auto_rows": null,
      "grid_column": null,
      "grid_gap": null,
      "grid_row": null,
      "grid_template_areas": null,
      "grid_template_columns": null,
      "grid_template_rows": null,
      "height": null,
      "justify_content": null,
      "justify_items": null,
      "left": null,
      "margin": null,
      "max_height": null,
      "max_width": null,
      "min_height": null,
      "min_width": null,
      "object_fit": null,
      "object_position": null,
      "order": null,
      "overflow": null,
      "overflow_x": null,
      "overflow_y": null,
      "padding": null,
      "right": null,
      "top": null,
      "visibility": null,
      "width": null
     }
    },
    "77fd388533eb4290b904c5ef3ae1303c": {
     "model_module": "@jupyter-widgets/controls",
     "model_module_version": "1.5.0",
     "model_name": "HTMLModel",
     "state": {
      "_dom_classes": [],
      "_model_module": "@jupyter-widgets/controls",
      "_model_module_version": "1.5.0",
      "_model_name": "HTMLModel",
      "_view_count": null,
      "_view_module": "@jupyter-widgets/controls",
      "_view_module_version": "1.5.0",
      "_view_name": "HTMLView",
      "description": "",
      "description_tooltip": null,
      "layout": "IPY_MODEL_56ce6ce734da454889c8f5d1047792cc",
      "placeholder": "​",
      "style": "IPY_MODEL_dd755318eb334ccbb532f537122b7e7c",
      "value": " 589/589 [00:44&lt;00:00, 93.14it/s]"
     }
    },
    "9f4d1f9f616c441aa617accbcf259ecc": {
     "model_module": "@jupyter-widgets/controls",
     "model_module_version": "1.5.0",
     "model_name": "HBoxModel",
     "state": {
      "_dom_classes": [],
      "_model_module": "@jupyter-widgets/controls",
      "_model_module_version": "1.5.0",
      "_model_name": "HBoxModel",
      "_view_count": null,
      "_view_module": "@jupyter-widgets/controls",
      "_view_module_version": "1.5.0",
      "_view_name": "HBoxView",
      "box_style": "",
      "children": [
       "IPY_MODEL_072b53592ce549008d4d6f4f9ca5416e",
       "IPY_MODEL_4eb36960c3fa46e4b0f57253bf96f828"
      ],
      "layout": "IPY_MODEL_abf35b94dbca4524a6dd3d312be8e187"
     }
    },
    "abf35b94dbca4524a6dd3d312be8e187": {
     "model_module": "@jupyter-widgets/base",
     "model_module_version": "1.2.0",
     "model_name": "LayoutModel",
     "state": {
      "_model_module": "@jupyter-widgets/base",
      "_model_module_version": "1.2.0",
      "_model_name": "LayoutModel",
      "_view_count": null,
      "_view_module": "@jupyter-widgets/base",
      "_view_module_version": "1.2.0",
      "_view_name": "LayoutView",
      "align_content": null,
      "align_items": null,
      "align_self": null,
      "border": null,
      "bottom": null,
      "display": null,
      "flex": null,
      "flex_flow": null,
      "grid_area": null,
      "grid_auto_columns": null,
      "grid_auto_flow": null,
      "grid_auto_rows": null,
      "grid_column": null,
      "grid_gap": null,
      "grid_row": null,
      "grid_template_areas": null,
      "grid_template_columns": null,
      "grid_template_rows": null,
      "height": null,
      "justify_content": null,
      "justify_items": null,
      "left": null,
      "margin": null,
      "max_height": null,
      "max_width": null,
      "min_height": null,
      "min_width": null,
      "object_fit": null,
      "object_position": null,
      "order": null,
      "overflow": null,
      "overflow_x": null,
      "overflow_y": null,
      "padding": null,
      "right": null,
      "top": null,
      "visibility": null,
      "width": null
     }
    },
    "bbf5c25b33cc487fa0f8717623a0f831": {
     "model_module": "@jupyter-widgets/base",
     "model_module_version": "1.2.0",
     "model_name": "LayoutModel",
     "state": {
      "_model_module": "@jupyter-widgets/base",
      "_model_module_version": "1.2.0",
      "_model_name": "LayoutModel",
      "_view_count": null,
      "_view_module": "@jupyter-widgets/base",
      "_view_module_version": "1.2.0",
      "_view_name": "LayoutView",
      "align_content": null,
      "align_items": null,
      "align_self": null,
      "border": null,
      "bottom": null,
      "display": null,
      "flex": null,
      "flex_flow": null,
      "grid_area": null,
      "grid_auto_columns": null,
      "grid_auto_flow": null,
      "grid_auto_rows": null,
      "grid_column": null,
      "grid_gap": null,
      "grid_row": null,
      "grid_template_areas": null,
      "grid_template_columns": null,
      "grid_template_rows": null,
      "height": null,
      "justify_content": null,
      "justify_items": null,
      "left": null,
      "margin": null,
      "max_height": null,
      "max_width": null,
      "min_height": null,
      "min_width": null,
      "object_fit": null,
      "object_position": null,
      "order": null,
      "overflow": null,
      "overflow_x": null,
      "overflow_y": null,
      "padding": null,
      "right": null,
      "top": null,
      "visibility": null,
      "width": null
     }
    },
    "bc52ea83368c4228bfcb8e28d9ad128c": {
     "model_module": "@jupyter-widgets/controls",
     "model_module_version": "1.5.0",
     "model_name": "ProgressStyleModel",
     "state": {
      "_model_module": "@jupyter-widgets/controls",
      "_model_module_version": "1.5.0",
      "_model_name": "ProgressStyleModel",
      "_view_count": null,
      "_view_module": "@jupyter-widgets/base",
      "_view_module_version": "1.2.0",
      "_view_name": "StyleView",
      "bar_color": null,
      "description_width": "initial"
     }
    },
    "c4986325f6cb4d7bae36bd8f49847842": {
     "model_module": "@jupyter-widgets/controls",
     "model_module_version": "1.5.0",
     "model_name": "HTMLModel",
     "state": {
      "_dom_classes": [],
      "_model_module": "@jupyter-widgets/controls",
      "_model_module_version": "1.5.0",
      "_model_name": "HTMLModel",
      "_view_count": null,
      "_view_module": "@jupyter-widgets/controls",
      "_view_module_version": "1.5.0",
      "_view_name": "HTMLView",
      "description": "",
      "description_tooltip": null,
      "layout": "IPY_MODEL_5750b64cc00b4b97ba7e9cc1784dfe23",
      "placeholder": "​",
      "style": "IPY_MODEL_51734b4e1fe64ad7b24d754af2c51a50",
      "value": " 589/589 [01:15&lt;00:00,  7.79it/s]"
     }
    },
    "ca959ca910ce4932a889fe6391ff9889": {
     "model_module": "@jupyter-widgets/controls",
     "model_module_version": "1.5.0",
     "model_name": "HTMLModel",
     "state": {
      "_dom_classes": [],
      "_model_module": "@jupyter-widgets/controls",
      "_model_module_version": "1.5.0",
      "_model_name": "HTMLModel",
      "_view_count": null,
      "_view_module": "@jupyter-widgets/controls",
      "_view_module_version": "1.5.0",
      "_view_name": "HTMLView",
      "description": "",
      "description_tooltip": null,
      "layout": "IPY_MODEL_bbf5c25b33cc487fa0f8717623a0f831",
      "placeholder": "​",
      "style": "IPY_MODEL_285118713d794b7ab5038d17bc3f0858",
      "value": "Batches: 100%"
     }
    },
    "cceb1d9854d64376940c42c10b817d17": {
     "model_module": "@jupyter-widgets/controls",
     "model_module_version": "1.5.0",
     "model_name": "HBoxModel",
     "state": {
      "_dom_classes": [],
      "_model_module": "@jupyter-widgets/controls",
      "_model_module_version": "1.5.0",
      "_model_name": "HBoxModel",
      "_view_count": null,
      "_view_module": "@jupyter-widgets/controls",
      "_view_module_version": "1.5.0",
      "_view_name": "HBoxView",
      "box_style": "",
      "children": [
       "IPY_MODEL_305c43af75f5456cb698cc901732d65e",
       "IPY_MODEL_c4986325f6cb4d7bae36bd8f49847842"
      ],
      "layout": "IPY_MODEL_fff0c80ebbbf455c9e6fd055f830258b"
     }
    },
    "cf376dda5e8b4046837d7dc7f05f20d9": {
     "model_module": "@jupyter-widgets/base",
     "model_module_version": "1.2.0",
     "model_name": "LayoutModel",
     "state": {
      "_model_module": "@jupyter-widgets/base",
      "_model_module_version": "1.2.0",
      "_model_name": "LayoutModel",
      "_view_count": null,
      "_view_module": "@jupyter-widgets/base",
      "_view_module_version": "1.2.0",
      "_view_name": "LayoutView",
      "align_content": null,
      "align_items": null,
      "align_self": null,
      "border": null,
      "bottom": null,
      "display": null,
      "flex": null,
      "flex_flow": null,
      "grid_area": null,
      "grid_auto_columns": null,
      "grid_auto_flow": null,
      "grid_auto_rows": null,
      "grid_column": null,
      "grid_gap": null,
      "grid_row": null,
      "grid_template_areas": null,
      "grid_template_columns": null,
      "grid_template_rows": null,
      "height": null,
      "justify_content": null,
      "justify_items": null,
      "left": null,
      "margin": null,
      "max_height": null,
      "max_width": null,
      "min_height": null,
      "min_width": null,
      "object_fit": null,
      "object_position": null,
      "order": null,
      "overflow": null,
      "overflow_x": null,
      "overflow_y": null,
      "padding": null,
      "right": null,
      "top": null,
      "visibility": null,
      "width": null
     }
    },
    "d0620101a684490892159f5dee0c10bf": {
     "model_module": "@jupyter-widgets/controls",
     "model_module_version": "1.5.0",
     "model_name": "ProgressStyleModel",
     "state": {
      "_model_module": "@jupyter-widgets/controls",
      "_model_module_version": "1.5.0",
      "_model_name": "ProgressStyleModel",
      "_view_count": null,
      "_view_module": "@jupyter-widgets/base",
      "_view_module_version": "1.2.0",
      "_view_name": "StyleView",
      "bar_color": null,
      "description_width": "initial"
     }
    },
    "dd755318eb334ccbb532f537122b7e7c": {
     "model_module": "@jupyter-widgets/controls",
     "model_module_version": "1.5.0",
     "model_name": "DescriptionStyleModel",
     "state": {
      "_model_module": "@jupyter-widgets/controls",
      "_model_module_version": "1.5.0",
      "_model_name": "DescriptionStyleModel",
      "_view_count": null,
      "_view_module": "@jupyter-widgets/base",
      "_view_module_version": "1.2.0",
      "_view_name": "StyleView",
      "description_width": ""
     }
    },
    "fff0c80ebbbf455c9e6fd055f830258b": {
     "model_module": "@jupyter-widgets/base",
     "model_module_version": "1.2.0",
     "model_name": "LayoutModel",
     "state": {
      "_model_module": "@jupyter-widgets/base",
      "_model_module_version": "1.2.0",
      "_model_name": "LayoutModel",
      "_view_count": null,
      "_view_module": "@jupyter-widgets/base",
      "_view_module_version": "1.2.0",
      "_view_name": "LayoutView",
      "align_content": null,
      "align_items": null,
      "align_self": null,
      "border": null,
      "bottom": null,
      "display": null,
      "flex": null,
      "flex_flow": null,
      "grid_area": null,
      "grid_auto_columns": null,
      "grid_auto_flow": null,
      "grid_auto_rows": null,
      "grid_column": null,
      "grid_gap": null,
      "grid_row": null,
      "grid_template_areas": null,
      "grid_template_columns": null,
      "grid_template_rows": null,
      "height": null,
      "justify_content": null,
      "justify_items": null,
      "left": null,
      "margin": null,
      "max_height": null,
      "max_width": null,
      "min_height": null,
      "min_width": null,
      "object_fit": null,
      "object_position": null,
      "order": null,
      "overflow": null,
      "overflow_x": null,
      "overflow_y": null,
      "padding": null,
      "right": null,
      "top": null,
      "visibility": null,
      "width": null
     }
    }
   }
  }
 },
 "nbformat": 4,
 "nbformat_minor": 1
}

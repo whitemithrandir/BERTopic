{
 "cells": [
  {
   "cell_type": "code",
   "execution_count": 5,
   "id": "8dd2fcb0",
   "metadata": {},
   "outputs": [],
   "source": [
    "from datasets import load_dataset\n",
    "from bertopic import BERTopic\n",
    "from sklearn.feature_extraction.text import CountVectorizer\n"
   ]
  },
  {
   "cell_type": "code",
   "execution_count": 4,
   "id": "5c9ca4ef",
   "metadata": {},
   "outputs": [
    {
     "name": "stderr",
     "output_type": "stream",
     "text": [
      "Downloading readme: 100%|█████████████████████████████████████████████████████████████| 113/113 [00:00<00:00, 56.8kB/s]\n",
      "Using custom data configuration jamescalam--reddit-python-cac66ed2916ca872\n"
     ]
    },
    {
     "name": "stdout",
     "output_type": "stream",
     "text": [
      "Downloading and preparing dataset json/jamescalam--reddit-python to C:/Users/saban.kara/.cache/huggingface/datasets/jamescalam___json/jamescalam--reddit-python-cac66ed2916ca872/0.0.0/0f7e3662623656454fcd2b650f34e886a7db4b9104504885bd462096cc7a9f51...\n"
     ]
    },
    {
     "name": "stderr",
     "output_type": "stream",
     "text": [
      "Downloading data files:   0%|                                                                    | 0/1 [00:00<?, ?it/s]\n",
      "Downloading data:   0%|                                                                     | 0.00/677k [00:00<?, ?B/s]\u001b[A\n",
      "Downloading data:   5%|██▉                                                          | 32.8k/677k [00:00<00:02, 228kB/s]\u001b[A\n",
      "Downloading data:  12%|███████▍                                                     | 81.9k/677k [00:00<00:01, 298kB/s]\u001b[A\n",
      "Downloading data:  24%|███████████████                                               | 164k/677k [00:00<00:01, 432kB/s]\u001b[A\n",
      "Downloading data:  44%|███████████████████████████                                   | 295k/677k [00:00<00:00, 628kB/s]\u001b[A\n",
      "Downloading data:  56%|██████████████████████████████████▌                           | 377k/677k [00:00<00:00, 609kB/s]\u001b[A\n",
      "Downloading data: 100%|██████████████████████████████████████████████████████████████| 677k/677k [00:00<00:00, 772kB/s]\u001b[A\n",
      "Downloading data files: 100%|████████████████████████████████████████████████████████████| 1/1 [00:02<00:00,  2.18s/it]\n",
      "Extracting data files: 100%|████████████████████████████████████████████████████████████| 1/1 [00:00<00:00, 333.28it/s]\n",
      "                                                        "
     ]
    },
    {
     "name": "stdout",
     "output_type": "stream",
     "text": [
      "Dataset json downloaded and prepared to C:/Users/saban.kara/.cache/huggingface/datasets/jamescalam___json/jamescalam--reddit-python-cac66ed2916ca872/0.0.0/0f7e3662623656454fcd2b650f34e886a7db4b9104504885bd462096cc7a9f51. Subsequent calls will reuse this data.\n"
     ]
    },
    {
     "name": "stderr",
     "output_type": "stream",
     "text": [
      "\r"
     ]
    },
    {
     "data": {
      "text/plain": [
       "Dataset({\n",
       "    features: ['sub', 'title', 'selftext', 'upvote_ratio', 'id', 'created_utc'],\n",
       "    num_rows: 933\n",
       "})"
      ]
     },
     "execution_count": 4,
     "metadata": {},
     "output_type": "execute_result"
    }
   ],
   "source": [
    "data = load_dataset('jamescalam/reddit-python', split='train')\n",
    "data"
   ]
  },
  {
   "cell_type": "code",
   "execution_count": 6,
   "id": "6bd21c37",
   "metadata": {},
   "outputs": [
    {
     "name": "stderr",
     "output_type": "stream",
     "text": [
      "Batches: 100%|█████████████████████████████████████████████████████████████████████████| 30/30 [00:34<00:00,  1.13s/it]\n",
      "2023-02-08 19:59:00,144 - BERTopic - Transformed documents to Embeddings\n",
      "2023-02-08 19:59:07,472 - BERTopic - Reduced dimensionality\n",
      "2023-02-08 19:59:07,556 - BERTopic - Clustered reduced embeddings\n"
     ]
    }
   ],
   "source": [
    "# we add this to remove stopwords, for lower volumes of data stopwords can cause issues\n",
    "vectorizer_model = CountVectorizer(ngram_range=(1, 2), stop_words=\"english\")\n",
    "\n",
    "# deal with df if needed\n",
    "if type(data['selftext']) is list:\n",
    "    text = data['selftext']\n",
    "else:\n",
    "    text = data['selftext'].tolist()\n",
    "\n",
    "model = BERTopic(\n",
    "    vectorizer_model=vectorizer_model,\n",
    "    language='english', calculate_probabilities=True,\n",
    "    verbose=True\n",
    ")\n",
    "topics, probs = model.fit_transform(text)"
   ]
  },
  {
   "cell_type": "code",
   "execution_count": null,
   "id": "e1aeac9b",
   "metadata": {},
   "outputs": [],
   "source": []
  }
 ],
 "metadata": {
  "kernelspec": {
   "display_name": "Python 3 (ipykernel)",
   "language": "python",
   "name": "python3"
  },
  "language_info": {
   "codemirror_mode": {
    "name": "ipython",
    "version": 3
   },
   "file_extension": ".py",
   "mimetype": "text/x-python",
   "name": "python",
   "nbconvert_exporter": "python",
   "pygments_lexer": "ipython3",
   "version": "3.8.16"
  }
 },
 "nbformat": 4,
 "nbformat_minor": 5
}
